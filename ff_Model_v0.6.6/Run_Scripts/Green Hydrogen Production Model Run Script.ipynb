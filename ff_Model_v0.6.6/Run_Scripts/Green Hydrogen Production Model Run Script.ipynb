{
 "cells": [
  {
   "cell_type": "code",
   "execution_count": 33,
   "id": "documentary-outreach",
   "metadata": {
    "scrolled": true
   },
   "outputs": [],
   "source": [
    "import calliope\n",
    "import numpy as np\n",
    "import pandas as pd\n",
    "import matplotlib.pyplot as plt\n",
    "import winsound as ws"
   ]
  },
  {
   "cell_type": "code",
   "execution_count": 34,
   "id": "inclusive-participation",
   "metadata": {},
   "outputs": [],
   "source": [
    "hydrogen_costs = np.arange(0,1,0.01) #range of hydrogen costs, to test the cost competitiveness of Green hydrogen production method\n",
    "\n",
    "time_period = \"default\"\n",
    "\n",
    "scenarios = {\"default\":{\"cs1\":\"default/concept_scenario_1\",\"cs2\":\"default/concept_scenario_2\",\"cs3\":\"default/concept_scenario_3\",\"cs4\":\"default/concept_scenario_4\"},\n",
    "             \"high_wind_month\":{\"cs1\":\"high_wind_month/concept_scenario_1\",\"cs2\":\"high_wind_month/concept_scenario_2\",\"cs3\":\"high_wind_month/concept_scenario_3\",\"cs4\":\"high_wind_month/concept_scenario_4\"},\n",
    "             \"low_wind_month\":{\"cs1\":\"low_wind_month/concept_scenario_1\",\"cs2\":\"low_wind_month/concept_scenario_2\",\"cs3\":\"low_wind_month/concept_scenario_3\",\"cs4\":\"low_wind_month/concept_scenario_4\"},\n",
    "             \"high_wind_day\":{\"cs1\":\"high_wind_day/concept_scenario_1\",\"cs2\":\"high_wind_day/concept_scenario_2\",\"cs3\":\"high_wind_day/concept_scenario_3\",\"cs4\":\"high_wind_day/concept_scenario_4\"},\n",
    "             \"low_wind_day\":{\"cs1\":\"low_wind_day/concept_scenario_1\",\"cs2\":\"low_wind_day/concept_scenario_2\",\"cs3\":\"low_wind_day/concept_scenario_3\",\"cs4\":\"low_wind_day/concept_scenario_4\"},\n",
    "             \"full_year\":{\"cs1\":\"full_year/concept_scenario_1\",\"cs2\":\"full_year/concept_scenario_2\",\"cs3\":\"full_year/concept_scenario_3\",\"cs4\":\"full_year/concept_scenario_4\"},\n",
    "            }\n",
    "                       "
   ]
  },
  {
   "cell_type": "code",
   "execution_count": 35,
   "id": "promotional-province",
   "metadata": {},
   "outputs": [],
   "source": [
    "def cost_iteration(scenario,cost_range):\n",
    "\n",
    "    results =[]\n",
    "    models ={}\n",
    "    \n",
    "    for cost in cost_range:\n",
    "        \n",
    "        model = calliope.Model('../model.yaml',\n",
    "                               scenario=scenario,\n",
    "                               override_dict = {'techs.smr.costs.monetary.om_prod': cost})\n",
    "\n",
    "        model.run(force_rerun=True)\n",
    "        \n",
    "        models[str(cost)]= model\n",
    "                       \n",
    "        \n",
    "        if \"concept_scenario_2\" in model.results.scenario:\n",
    "            \n",
    "            results.append({'hydrogen_cost' : cost,\n",
    "                            'Green_Hydrogen_prod' : model.results.carrier_prod.sel(loc_tech_carriers_prod='region1-1::electrolysis::hydrogen').values.sum(),\n",
    "                            'Grey_Hydrogen_prod' : model.results.carrier_prod.sel(loc_tech_carriers_prod='region2::smr::hydrogen').values.sum()\n",
    "                           }) # store results in list\n",
    "        else:\n",
    "            \n",
    "            results.append({'hydrogen_cost' : cost,\n",
    "                            'Green_Hydrogen_prod' : model.results.carrier_prod.sel(loc_tech_carriers_prod='region1-2::electrolysis::hydrogen').values.sum(),\n",
    "                            'Grey_Hydrogen_prod' : model.results.carrier_prod.sel(loc_tech_carriers_prod='region2::smr::hydrogen').values.sum()\n",
    "                            }) # store results in list\n",
    "    \n",
    "    results_df = pd.DataFrame(results)\n",
    "    \n",
    "    return results_df, models"
   ]
  },
  {
   "cell_type": "code",
   "execution_count": 36,
   "id": "danish-trader",
   "metadata": {
    "scrolled": false
   },
   "outputs": [],
   "source": [
    "[cs1_data, cs1_model] = cost_iteration(scenarios[time_period][\"cs1\"],hydrogen_costs)\n",
    "ws.Beep(3000,10) #to let user know it's finished running"
   ]
  },
  {
   "cell_type": "code",
   "execution_count": 37,
   "id": "educational-produce",
   "metadata": {},
   "outputs": [],
   "source": [
    "[cs2_data, cs2_model] = cost_iteration(scenarios[time_period][\"cs2\"],hydrogen_costs)\n",
    "ws.Beep(3000,10) #to let user know it's finished running"
   ]
  },
  {
   "cell_type": "code",
   "execution_count": 38,
   "id": "deadly-navigation",
   "metadata": {
    "scrolled": true
   },
   "outputs": [],
   "source": [
    "[cs3_data, cs3_model] = cost_iteration(scenarios[time_period][\"cs3\"],hydrogen_costs)\n",
    "ws.Beep(3000,10) #to let user know it's finished running"
   ]
  },
  {
   "cell_type": "code",
   "execution_count": 39,
   "id": "chinese-society",
   "metadata": {},
   "outputs": [
    {
     "ename": "ApplicationError",
     "evalue": "Solver (cbc) did not exit normally",
     "output_type": "error",
     "traceback": [
      "\u001b[1;31m---------------------------------------------------------------------------\u001b[0m",
      "\u001b[1;31mApplicationError\u001b[0m                          Traceback (most recent call last)",
      "\u001b[1;32m<ipython-input-39-e762d6809fcd>\u001b[0m in \u001b[0;36m<module>\u001b[1;34m\u001b[0m\n\u001b[1;32m----> 1\u001b[1;33m \u001b[1;33m[\u001b[0m\u001b[0mcs4_data\u001b[0m\u001b[1;33m,\u001b[0m \u001b[0mcs4_model\u001b[0m\u001b[1;33m]\u001b[0m \u001b[1;33m=\u001b[0m \u001b[0mcost_iteration\u001b[0m\u001b[1;33m(\u001b[0m\u001b[0mscenarios\u001b[0m\u001b[1;33m[\u001b[0m\u001b[0mtime_period\u001b[0m\u001b[1;33m]\u001b[0m\u001b[1;33m[\u001b[0m\u001b[1;34m\"cs4\"\u001b[0m\u001b[1;33m]\u001b[0m\u001b[1;33m,\u001b[0m\u001b[0mhydrogen_costs\u001b[0m\u001b[1;33m)\u001b[0m\u001b[1;33m\u001b[0m\u001b[1;33m\u001b[0m\u001b[0m\n\u001b[0m\u001b[0;32m      2\u001b[0m \u001b[0mws\u001b[0m\u001b[1;33m.\u001b[0m\u001b[0mBeep\u001b[0m\u001b[1;33m(\u001b[0m\u001b[1;36m3000\u001b[0m\u001b[1;33m,\u001b[0m\u001b[1;36m10\u001b[0m\u001b[1;33m)\u001b[0m \u001b[1;31m#to let user know it's finished running\u001b[0m\u001b[1;33m\u001b[0m\u001b[1;33m\u001b[0m\u001b[0m\n",
      "\u001b[1;32m<ipython-input-35-e66d6dea0625>\u001b[0m in \u001b[0;36mcost_iteration\u001b[1;34m(scenario, cost_range)\u001b[0m\n\u001b[0;32m     10\u001b[0m                                override_dict = {'techs.smr.costs.monetary.om_prod': cost})\n\u001b[0;32m     11\u001b[0m \u001b[1;33m\u001b[0m\u001b[0m\n\u001b[1;32m---> 12\u001b[1;33m         \u001b[0mmodel\u001b[0m\u001b[1;33m.\u001b[0m\u001b[0mrun\u001b[0m\u001b[1;33m(\u001b[0m\u001b[0mforce_rerun\u001b[0m\u001b[1;33m=\u001b[0m\u001b[1;32mTrue\u001b[0m\u001b[1;33m)\u001b[0m\u001b[1;33m\u001b[0m\u001b[1;33m\u001b[0m\u001b[0m\n\u001b[0m\u001b[0;32m     13\u001b[0m \u001b[1;33m\u001b[0m\u001b[0m\n\u001b[0;32m     14\u001b[0m         \u001b[0mmodels\u001b[0m\u001b[1;33m[\u001b[0m\u001b[0mstr\u001b[0m\u001b[1;33m(\u001b[0m\u001b[0mcost\u001b[0m\u001b[1;33m)\u001b[0m\u001b[1;33m]\u001b[0m\u001b[1;33m=\u001b[0m \u001b[0mmodel\u001b[0m\u001b[1;33m\u001b[0m\u001b[1;33m\u001b[0m\u001b[0m\n",
      "\u001b[1;32m~\\anaconda3\\envs\\calliope2\\lib\\site-packages\\calliope\\core\\model.py\u001b[0m in \u001b[0;36mrun\u001b[1;34m(self, force_rerun, **kwargs)\u001b[0m\n\u001b[0;32m    259\u001b[0m             )\n\u001b[0;32m    260\u001b[0m \u001b[1;33m\u001b[0m\u001b[0m\n\u001b[1;32m--> 261\u001b[1;33m         results, self._backend_model, interface = run_backend(\n\u001b[0m\u001b[0;32m    262\u001b[0m             \u001b[0mself\u001b[0m\u001b[1;33m.\u001b[0m\u001b[0m_model_data\u001b[0m\u001b[1;33m,\u001b[0m \u001b[0mself\u001b[0m\u001b[1;33m.\u001b[0m\u001b[0m_timings\u001b[0m\u001b[1;33m,\u001b[0m \u001b[1;33m**\u001b[0m\u001b[0mkwargs\u001b[0m\u001b[1;33m\u001b[0m\u001b[1;33m\u001b[0m\u001b[0m\n\u001b[0;32m    263\u001b[0m         )\n",
      "\u001b[1;32m~\\anaconda3\\envs\\calliope2\\lib\\site-packages\\calliope\\backend\\run.py\u001b[0m in \u001b[0;36mrun\u001b[1;34m(model_data, timings, build_only)\u001b[0m\n\u001b[0;32m     44\u001b[0m \u001b[1;33m\u001b[0m\u001b[0m\n\u001b[0;32m     45\u001b[0m     \u001b[1;32mif\u001b[0m \u001b[0mrun_config\u001b[0m\u001b[1;33m[\u001b[0m\u001b[1;34m\"mode\"\u001b[0m\u001b[1;33m]\u001b[0m \u001b[1;33m==\u001b[0m \u001b[1;34m\"plan\"\u001b[0m\u001b[1;33m:\u001b[0m\u001b[1;33m\u001b[0m\u001b[1;33m\u001b[0m\u001b[0m\n\u001b[1;32m---> 46\u001b[1;33m         results, backend = run_plan(\n\u001b[0m\u001b[0;32m     47\u001b[0m             \u001b[0mmodel_data\u001b[0m\u001b[1;33m,\u001b[0m\u001b[1;33m\u001b[0m\u001b[1;33m\u001b[0m\u001b[0m\n\u001b[0;32m     48\u001b[0m             \u001b[0mtimings\u001b[0m\u001b[1;33m,\u001b[0m\u001b[1;33m\u001b[0m\u001b[1;33m\u001b[0m\u001b[0m\n",
      "\u001b[1;32m~\\anaconda3\\envs\\calliope2\\lib\\site-packages\\calliope\\backend\\run.py\u001b[0m in \u001b[0;36mrun_plan\u001b[1;34m(model_data, timings, backend, build_only, backend_rerun)\u001b[0m\n\u001b[0;32m    106\u001b[0m         )\n\u001b[0;32m    107\u001b[0m \u001b[1;33m\u001b[0m\u001b[0m\n\u001b[1;32m--> 108\u001b[1;33m         results = backend.solve_model(\n\u001b[0m\u001b[0;32m    109\u001b[0m             \u001b[0mbackend_model\u001b[0m\u001b[1;33m,\u001b[0m\u001b[1;33m\u001b[0m\u001b[1;33m\u001b[0m\u001b[0m\n\u001b[0;32m    110\u001b[0m             \u001b[0msolver\u001b[0m\u001b[1;33m=\u001b[0m\u001b[0msolver\u001b[0m\u001b[1;33m,\u001b[0m\u001b[1;33m\u001b[0m\u001b[1;33m\u001b[0m\u001b[0m\n",
      "\u001b[1;32m~\\anaconda3\\envs\\calliope2\\lib\\site-packages\\calliope\\backend\\pyomo\\model.py\u001b[0m in \u001b[0;36msolve_model\u001b[1;34m(backend_model, solver, solver_io, solver_options, save_logs, **solve_kwargs)\u001b[0m\n\u001b[0;32m    207\u001b[0m             \u001b[1;31m# already captured through STDOUT\u001b[0m\u001b[1;33m\u001b[0m\u001b[1;33m\u001b[0m\u001b[1;33m\u001b[0m\u001b[0m\n\u001b[0;32m    208\u001b[0m             \u001b[0mlogging\u001b[0m\u001b[1;33m.\u001b[0m\u001b[0mgetLogger\u001b[0m\u001b[1;33m(\u001b[0m\u001b[1;34m\"gurobipy\"\u001b[0m\u001b[1;33m)\u001b[0m\u001b[1;33m.\u001b[0m\u001b[0msetLevel\u001b[0m\u001b[1;33m(\u001b[0m\u001b[0mlogging\u001b[0m\u001b[1;33m.\u001b[0m\u001b[0mERROR\u001b[0m\u001b[1;33m)\u001b[0m\u001b[1;33m\u001b[0m\u001b[1;33m\u001b[0m\u001b[0m\n\u001b[1;32m--> 209\u001b[1;33m             \u001b[0mresults\u001b[0m \u001b[1;33m=\u001b[0m \u001b[0mopt\u001b[0m\u001b[1;33m.\u001b[0m\u001b[0msolve\u001b[0m\u001b[1;33m(\u001b[0m\u001b[0mbackend_model\u001b[0m\u001b[1;33m,\u001b[0m \u001b[0mtee\u001b[0m\u001b[1;33m=\u001b[0m\u001b[1;32mTrue\u001b[0m\u001b[1;33m,\u001b[0m \u001b[1;33m**\u001b[0m\u001b[0msolve_kwargs\u001b[0m\u001b[1;33m)\u001b[0m\u001b[1;33m\u001b[0m\u001b[1;33m\u001b[0m\u001b[0m\n\u001b[0m\u001b[0;32m    210\u001b[0m     \u001b[1;32mreturn\u001b[0m \u001b[0mresults\u001b[0m\u001b[1;33m\u001b[0m\u001b[1;33m\u001b[0m\u001b[0m\n\u001b[0;32m    211\u001b[0m \u001b[1;33m\u001b[0m\u001b[0m\n",
      "\u001b[1;32m~\\anaconda3\\envs\\calliope2\\lib\\site-packages\\pyomo\\opt\\base\\solvers.py\u001b[0m in \u001b[0;36msolve\u001b[1;34m(self, *args, **kwds)\u001b[0m\n\u001b[0;32m    599\u001b[0m                 \u001b[1;32melif\u001b[0m \u001b[0mhasattr\u001b[0m\u001b[1;33m(\u001b[0m\u001b[0m_status\u001b[0m\u001b[1;33m,\u001b[0m \u001b[1;34m'log'\u001b[0m\u001b[1;33m)\u001b[0m \u001b[1;32mand\u001b[0m \u001b[0m_status\u001b[0m\u001b[1;33m.\u001b[0m\u001b[0mlog\u001b[0m\u001b[1;33m:\u001b[0m\u001b[1;33m\u001b[0m\u001b[1;33m\u001b[0m\u001b[0m\n\u001b[0;32m    600\u001b[0m                     \u001b[0mlogger\u001b[0m\u001b[1;33m.\u001b[0m\u001b[0merror\u001b[0m\u001b[1;33m(\u001b[0m\u001b[1;34m\"Solver log:\\n\"\u001b[0m \u001b[1;33m+\u001b[0m \u001b[0mstr\u001b[0m\u001b[1;33m(\u001b[0m\u001b[0m_status\u001b[0m\u001b[1;33m.\u001b[0m\u001b[0mlog\u001b[0m\u001b[1;33m)\u001b[0m\u001b[1;33m)\u001b[0m\u001b[1;33m\u001b[0m\u001b[1;33m\u001b[0m\u001b[0m\n\u001b[1;32m--> 601\u001b[1;33m                 raise ApplicationError(\n\u001b[0m\u001b[0;32m    602\u001b[0m                     \"Solver (%s) did not exit normally\" % self.name)\n\u001b[0;32m    603\u001b[0m             \u001b[0msolve_completion_time\u001b[0m \u001b[1;33m=\u001b[0m \u001b[0mtime\u001b[0m\u001b[1;33m.\u001b[0m\u001b[0mtime\u001b[0m\u001b[1;33m(\u001b[0m\u001b[1;33m)\u001b[0m\u001b[1;33m\u001b[0m\u001b[1;33m\u001b[0m\u001b[0m\n",
      "\u001b[1;31mApplicationError\u001b[0m: Solver (cbc) did not exit normally"
     ]
    }
   ],
   "source": [
    "[cs4_data, cs4_model] = cost_iteration(scenarios[time_period][\"cs4\"],hydrogen_costs)\n",
    "ws.Beep(3000,10) #to let user know it's finished running"
   ]
  },
  {
   "cell_type": "code",
   "execution_count": null,
   "id": "deluxe-review",
   "metadata": {
    "scrolled": true
   },
   "outputs": [],
   "source": [
    "cs1_data.plot(x=\"hydrogen_cost\")\n",
    "cs2_data.plot(x=\"hydrogen_cost\")\n",
    "cs3_data.plot(x=\"hydrogen_cost\")\n",
    "#cs4_data.plot(x=\"hydrogen_cost\")"
   ]
  },
  {
   "cell_type": "code",
   "execution_count": null,
   "id": "ordered-thursday",
   "metadata": {},
   "outputs": [],
   "source": [
    "print(cs1_data)"
   ]
  },
  {
   "cell_type": "code",
   "execution_count": null,
   "id": "aggregate-blend",
   "metadata": {
    "scrolled": true
   },
   "outputs": [],
   "source": [
    "cs1_model[\"0.1\"].plot.timeseries(array=['hydrogen', 'resource_prod'])"
   ]
  },
  {
   "cell_type": "code",
   "execution_count": null,
   "id": "resident-poultry",
   "metadata": {},
   "outputs": [],
   "source": []
  }
 ],
 "metadata": {
  "kernelspec": {
   "display_name": "Python 3",
   "language": "python",
   "name": "python3"
  },
  "language_info": {
   "codemirror_mode": {
    "name": "ipython",
    "version": 3
   },
   "file_extension": ".py",
   "mimetype": "text/x-python",
   "name": "python",
   "nbconvert_exporter": "python",
   "pygments_lexer": "ipython3",
   "version": "3.8.8"
  }
 },
 "nbformat": 4,
 "nbformat_minor": 5
}
