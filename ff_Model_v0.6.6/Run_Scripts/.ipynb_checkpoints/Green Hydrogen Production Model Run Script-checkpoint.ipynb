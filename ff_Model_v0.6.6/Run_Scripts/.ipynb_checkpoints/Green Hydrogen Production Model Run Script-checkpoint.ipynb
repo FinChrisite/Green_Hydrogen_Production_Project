{
 "cells": [
  {
   "cell_type": "code",
   "execution_count": 23,
   "id": "documentary-outreach",
   "metadata": {
    "scrolled": true
   },
   "outputs": [],
   "source": [
    "import calliope\n",
    "import numpy as np\n",
    "import pandas as pd\n",
    "import matplotlib.pyplot as plt\n",
    "import winsound as ws"
   ]
  },
  {
   "cell_type": "code",
   "execution_count": 18,
   "id": "inclusive-participation",
   "metadata": {},
   "outputs": [],
   "source": [
    "hydrogen_subsidy = -1*np.arange(0.0,0.7,0.1) #range of hydrogen subsidy, to test the cost competitiveness of Green hydrogen production method\n",
    "hydrogen_cost = -0.044\n",
    "electricity_price = \"high\"\n",
    "time_period = \"full_year\"\n",
    "\n",
    "scenarios = {\"reference\":{\"default\":{\"cs1\":\"default/ref_price_elec/concept_scenario_1\",\"cs2\":\"default/ref_price_elec/concept_scenario_2\",\"cs3\":\"default/ref_price_elec/concept_scenario_3\",\"cs4\":\"default/ref_price_elec/concept_scenario_4\"},\n",
    "             \"high_wind_month\":{\"cs1\":\"high_wind_month/ref_price_elec/concept_scenario_1\",\"cs2\":\"high_wind_month/ref_price_elec/concept_scenario_2\",\"cs3\":\"high_wind_month/ref_price_elec/concept_scenario_3\",\"cs4\":\"high_wind_month/ref_price_elec/concept_scenario_4\"},\n",
    "             \"low_wind_month\":{\"cs1\":\"low_wind_month/ref_price_elec/concept_scenario_1\",\"cs2\":\"low_wind_month/ref_price_elec/concept_scenario_2\",\"cs3\":\"low_wind_month/ref_price_elec/concept_scenario_3\",\"cs4\":\"low_wind_month/ref_price_elec/concept_scenario_4\"},\n",
    "             \"high_wind_day\":{\"cs1\":\"high_wind_day/ref_price_elec/concept_scenario_1\",\"cs2\":\"high_wind_day/ref_price_elec/concept_scenario_2\",\"cs3\":\"high_wind_day/ref_price_elec/concept_scenario_3\",\"cs4\":\"high_wind_day/ref_price_elec/concept_scenario_4\"},\n",
    "             \"low_wind_day\":{\"cs1\":\"low_wind_day/ref_price_elec/concept_scenario_1\",\"cs2\":\"low_wind_day/ref_price_elec/concept_scenario_2\",\"cs3\":\"low_wind_day/ref_price_elec/concept_scenario_3\",\"cs4\":\"low_wind_day/ref_price_elec/concept_scenario_4\"},\n",
    "             \"full_year\":{\"cs1\":\"full_year/ref_price_elec/concept_scenario_1\",\"cs2\":\"full_year/ref_price_elec/concept_scenario_2\",\"cs3\":\"full_year/ref_price_elec/concept_scenario_3\",\"cs4\":\"full_year/ref_price_elec/concept_scenario_4\"},\n",
    "            },\n",
    "            \n",
    "            \"high\":{\"default\":{\"cs1\":\"default/high_price_elec/concept_scenario_1\",\"cs2\":\"default/high_price_elec/concept_scenario_2\",\"cs3\":\"default/high_price_elec/concept_scenario_3\",\"cs4\":\"default/high_price_elec/concept_scenario_4\"},\n",
    "             \"high_wind_month\":{\"cs1\":\"high_wind_month/high_price_elec/concept_scenario_1\",\"cs2\":\"high_wind_month/high_price_elec/concept_scenario_2\",\"cs3\":\"high_wind_month/high_price_elec/concept_scenario_3\",\"cs4\":\"high_wind_month/high_price_elec/concept_scenario_4\"},\n",
    "             \"low_wind_month\":{\"cs1\":\"low_wind_month/high_price_elec/concept_scenario_1\",\"cs2\":\"high_wind_month/high_price_elec/concept_scenario_2\",\"cs3\":\"low_wind_month/high_price_elec/concept_scenario_3\",\"cs4\":\"low_wind_month/high_price_elec/concept_scenario_4\"},\n",
    "             \"high_wind_day\":{\"cs1\":\"high_wind_day/high_price_elec/concept_scenario_1\",\"cs2\":\"high_wind_day/high_price_elec/concept_scenario_2\",\"cs3\":\"high_wind_day/high_price_elec/concept_scenario_3\",\"cs4\":\"high_wind_day/high_price_elec/concept_scenario_4\"},\n",
    "             \"low_wind_day\":{\"cs1\":\"low_wind_day/high_price_elec/concept_scenario_1\",\"cs2\":\"low_wind_day/high_price_elec/concept_scenario_2\",\"cs3\":\"low_wind_day/high_price_elec/concept_scenario_3\",\"cs4\":\"low_wind_day/high_price_elec/concept_scenario_4\"},\n",
    "             \"full_year\":{\"cs1\":\"full_year/high_price_elec/concept_scenario_1\",\"cs2\":\"full_year/high_price_elec/concept_scenario_2\",\"cs3\":\"full_year/high_price_elec/concept_scenario_3\",\"cs4\":\"full_year/high_price_elec/concept_scenario_4\"},\n",
    "            },\n",
    "            \n",
    "            \"low\":{\"default\":{\"cs1\":\"default/low_price_elec/concept_scenario_1\",\"cs2\":\"default/low_price_elec/concept_scenario_2\",\"cs3\":\"default/low_price_elec/concept_scenario_3\",\"cs4\":\"default/low_price_elec/concept_scenario_4\"},\n",
    "             \"high_wind_month\":{\"cs1\":\"high_wind_month/low_price_elec/concept_scenario_1\",\"cs2\":\"high_wind_month/low_price_elec/concept_scenario_2\",\"cs3\":\"high_wind_month/low_price_elec/concept_scenario_3\",\"cs4\":\"high_wind_month/low_price_elec/concept_scenario_4\"},\n",
    "             \"low_wind_month\":{\"cs1\":\"low_wind_month/low_price_elec/concept_scenario_1\",\"cs2\":\"low_wind_month/low_price_elec/concept_scenario_2\",\"cs3\":\"low_wind_month/low_price_elec/concept_scenario_3\",\"cs4\":\"low_wind_month/low_price_elec/concept_scenario_4\"},\n",
    "             \"high_wind_day\":{\"cs1\":\"high_wind_day/low_price_elec/concept_scenario_1\",\"cs2\":\"high_wind_day/low_price_elec/concept_scenario_2\",\"cs3\":\"high_wind_day/low_price_elec/concept_scenario_3\",\"cs4\":\"high_wind_day/low_price_elec/concept_scenario_4\"},\n",
    "             \"low_wind_day\":{\"cs1\":\"low_wind_day/low_price_elec/concept_scenario_1\",\"cs2\":\"low_wind_day/low_price_elec/concept_scenario_2\",\"cs3\":\"low_wind_day/low_price_elec/concept_scenario_3\",\"cs4\":\"low_wind_day/low_price_elec/concept_scenario_4\"},\n",
    "             \"full_year\":{\"cs1\":\"full_year/low_price_elec/concept_scenario_1\",\"cs2\":\"full_year/low_price_elec/concept_scenario_2\",\"cs3\":\"full_year/low_price_elec/concept_scenario_3\",\"cs4\":\"full_year/low_price_elec/concept_scenario_4\"},\n",
    "            }}\n",
    "                       "
   ]
  },
  {
   "cell_type": "code",
   "execution_count": 38,
   "id": "beneficial-quarterly",
   "metadata": {},
   "outputs": [
    {
     "name": "stdout",
     "output_type": "stream",
     "text": [
      "full_year/high_price_elec/concept_scenario_2\n",
      "bby\n"
     ]
    }
   ],
   "source": [
    "bab =scenarios[electricity_price][time_period][\"cs2\"]\n",
    "print(bab)\n",
    "if \"scenario_2\" in bab or \"scenario_4\" in bab:\n",
    "    print(\"bby\")\n",
    "else:\n",
    "    print(\"adult\")"
   ]
  },
  {
   "cell_type": "code",
   "execution_count": 20,
   "id": "promotional-province",
   "metadata": {},
   "outputs": [],
   "source": [
    "def cost_iteration(scenario,cost,subsidy_range):\n",
    "\n",
    "    results =[]\n",
    "    \n",
    "    for subsidy in subsidy_range:\n",
    "        \n",
    "        model = calliope.Model('../model.yaml',\n",
    "                               scenario=scenario,\n",
    "                               override_dict = {'links.region1-2,region2.techs.hydrogen_pipes.costs.monetary.om_prod': cost+subsidy})\n",
    "\n",
    "        model.run(force_rerun=True)\n",
    "        \n",
    "        #models[str(cost)]= model #storing models in dictionary so they can be called after\n",
    "                       \n",
    "            \n",
    "        results.append({'hydrogen_cost_(£)' : -1*cost,\n",
    "                            \n",
    "                        'hydrogen_subsidy_(£)' : -1*subsidy,\n",
    "                            \n",
    "                        'hydrogen_cost+subsidy_(£)' : -1*(cost+subsidy),\n",
    "                            \n",
    "                        'electrolysis_capacity(hydrogen)_(kW)' : (model.results.energy_cap.sel(loc_techs='region1-2::electrolysis').values).sum(),\n",
    "                            \n",
    "                        'osw_capacity_(kW)' : (model.results.energy_cap.sel(loc_techs='region1-1::wind_offshore').values).sum(),\n",
    "                            \n",
    "                        'battery_capactiy_(kW)' : (model.results.energy_cap.sel(loc_techs='region1-2::battery').values).sum(),\n",
    "                        \n",
    "                        'osw_elec_consumed_by_electrolyser_(kWh)' : -1*model.results.carrier_con.sel(loc_tech_carriers_con='region1-2::electrolysis::electricity').values.sum(),\n",
    "                        \n",
    "                        if \"scenario_2\" in scenario or \"scenario_4\" in scenario:\n",
    "                            'osw_elec_exported_to_grid_(kWh)' : 0    \n",
    "                        else:        \n",
    "                            'osw_elec_exported_to_grid_(kWh)' : -1*model.results.carrier_con.sel(loc_tech_carriers_con='region1-2::ac_transmission:region2::electricity').values.sum()\n",
    "                            \n",
    "                        'green_hydrogen_prod_(kWh)' : model.results.carrier_prod.sel(loc_tech_carriers_prod='region1-2::electrolysis::hydrogen').values.sum(),\n",
    "                            \n",
    "                        'alt_hydrogen_prod_(kWh)' : model.results.carrier_prod.sel(loc_tech_carriers_prod='region2::grid_hydrogen::hydrogen').values.sum(),\n",
    "                            \n",
    "                        'electrolysis_cost_(£)' : (model.results.cost.sel(costs='monetary', loc_techs_cost='region1-2::electrolysis').values).sum(),\n",
    "                            \n",
    "                        'osw_cost_(£)' :(model.results.cost.sel(costs='monetary', loc_techs_cost='region1-1::wind_offshore').values).sum(),\n",
    "                            \n",
    "                        'electrolysis_capfactor' : (model.results.systemwide_capacity_factor.sel(carriers='hydrogen',techs='electrolysis').values).sum(),\n",
    "                            \n",
    "                        'osw_capfactor' :(model.results.systemwide_capacity_factor.sel(carriers='electricity',techs='wind_offshore').values).sum(),\n",
    "                        }) # store results in list\n",
    "        \n",
    "    \n",
    "    results_df = pd.DataFrame(results)\n",
    "    \n",
    "    results_df['total_system_cost_(£)'] = results_df['electrolysis_cost_(£)'] + results_df['osw_cost_(£)']\n",
    "    \n",
    "    results_df['LCOE(hydrogen)_(£/kWh)'] = results_df['total_system_cost_(£)'] / results_df['green_hydrogen_prod_(kWh)']\n",
    "    \n",
    "    results_df['LCOE(elec)_(£/kWh)'] = results_df['total_system_cost_(£)'] / results_df['osw_elec_exported_to_grid_(kWh)']\n",
    "    \n",
    "    return results_df"
   ]
  },
  {
   "cell_type": "code",
   "execution_count": 22,
   "id": "danish-trader",
   "metadata": {
    "scrolled": true
   },
   "outputs": [],
   "source": [
    "cs1_data = cost_iteration(scenarios[electricity_price][time_period][\"cs1\"],hydrogen_cost,hydrogen_subsidy)\n",
    "ws.Beep(3000,10) #to let user know it's finished running"
   ]
  },
  {
   "cell_type": "code",
   "execution_count": 8,
   "id": "typical-inclusion",
   "metadata": {
    "scrolled": true
   },
   "outputs": [
    {
     "data": {
      "text/html": [
       "<div>\n",
       "<style scoped>\n",
       "    .dataframe tbody tr th:only-of-type {\n",
       "        vertical-align: middle;\n",
       "    }\n",
       "\n",
       "    .dataframe tbody tr th {\n",
       "        vertical-align: top;\n",
       "    }\n",
       "\n",
       "    .dataframe thead th {\n",
       "        text-align: right;\n",
       "    }\n",
       "</style>\n",
       "<table border=\"1\" class=\"dataframe\">\n",
       "  <thead>\n",
       "    <tr style=\"text-align: right;\">\n",
       "      <th></th>\n",
       "      <th>hydrogen_cost_(£)</th>\n",
       "      <th>hydrogen_subsidy_(£)</th>\n",
       "      <th>hydrogen_cost+subsidy_(£)</th>\n",
       "      <th>electrolysis_capacity(hydrogen)_(kW)</th>\n",
       "      <th>osw_capacity_(kW)</th>\n",
       "      <th>osw_elec_consumed_by_electrolyser_(kWh)</th>\n",
       "      <th>osw_elec_exported_to_grid_(kWh)</th>\n",
       "      <th>green_hydrogen_prod_(kWh)</th>\n",
       "      <th>alt_hydrogen_prod_(kWh)</th>\n",
       "      <th>electrolysis_cost_(£)</th>\n",
       "      <th>osw_cost_(£)</th>\n",
       "      <th>electrolysis_capfactor</th>\n",
       "      <th>osw_capfactor</th>\n",
       "      <th>total_system_cost_(£)</th>\n",
       "      <th>LCOE(hydrogen)_(£/kWh)</th>\n",
       "      <th>LCOE(elec)_(£/kWh)</th>\n",
       "    </tr>\n",
       "  </thead>\n",
       "  <tbody>\n",
       "    <tr>\n",
       "      <th>0</th>\n",
       "      <td>0.065</td>\n",
       "      <td>0.00</td>\n",
       "      <td>0.065</td>\n",
       "      <td>0.000</td>\n",
       "      <td>35988.165</td>\n",
       "      <td>-0.000000e+00</td>\n",
       "      <td>2.191878e+08</td>\n",
       "      <td>0.000000e+00</td>\n",
       "      <td>3.650000e+08</td>\n",
       "      <td>0.0</td>\n",
       "      <td>13621990.0</td>\n",
       "      <td>NaN</td>\n",
       "      <td>0.695269</td>\n",
       "      <td>13621990.0</td>\n",
       "      <td>inf</td>\n",
       "      <td>0.062148</td>\n",
       "    </tr>\n",
       "    <tr>\n",
       "      <th>1</th>\n",
       "      <td>0.065</td>\n",
       "      <td>0.01</td>\n",
       "      <td>0.075</td>\n",
       "      <td>0.000</td>\n",
       "      <td>35988.165</td>\n",
       "      <td>-0.000000e+00</td>\n",
       "      <td>2.191878e+08</td>\n",
       "      <td>0.000000e+00</td>\n",
       "      <td>3.650000e+08</td>\n",
       "      <td>0.0</td>\n",
       "      <td>13621990.0</td>\n",
       "      <td>NaN</td>\n",
       "      <td>0.695269</td>\n",
       "      <td>13621990.0</td>\n",
       "      <td>inf</td>\n",
       "      <td>0.062148</td>\n",
       "    </tr>\n",
       "    <tr>\n",
       "      <th>2</th>\n",
       "      <td>0.065</td>\n",
       "      <td>0.02</td>\n",
       "      <td>0.085</td>\n",
       "      <td>0.000</td>\n",
       "      <td>35988.165</td>\n",
       "      <td>-0.000000e+00</td>\n",
       "      <td>2.191878e+08</td>\n",
       "      <td>0.000000e+00</td>\n",
       "      <td>3.650000e+08</td>\n",
       "      <td>0.0</td>\n",
       "      <td>13621990.0</td>\n",
       "      <td>NaN</td>\n",
       "      <td>0.695269</td>\n",
       "      <td>13621990.0</td>\n",
       "      <td>inf</td>\n",
       "      <td>0.062148</td>\n",
       "    </tr>\n",
       "    <tr>\n",
       "      <th>3</th>\n",
       "      <td>0.065</td>\n",
       "      <td>0.03</td>\n",
       "      <td>0.095</td>\n",
       "      <td>0.000</td>\n",
       "      <td>35988.165</td>\n",
       "      <td>-0.000000e+00</td>\n",
       "      <td>2.191878e+08</td>\n",
       "      <td>0.000000e+00</td>\n",
       "      <td>3.650000e+08</td>\n",
       "      <td>0.0</td>\n",
       "      <td>13621990.0</td>\n",
       "      <td>NaN</td>\n",
       "      <td>0.695269</td>\n",
       "      <td>13621990.0</td>\n",
       "      <td>inf</td>\n",
       "      <td>0.062148</td>\n",
       "    </tr>\n",
       "    <tr>\n",
       "      <th>4</th>\n",
       "      <td>0.065</td>\n",
       "      <td>0.04</td>\n",
       "      <td>0.105</td>\n",
       "      <td>0.000</td>\n",
       "      <td>35988.165</td>\n",
       "      <td>-0.000000e+00</td>\n",
       "      <td>2.191878e+08</td>\n",
       "      <td>0.000000e+00</td>\n",
       "      <td>3.650000e+08</td>\n",
       "      <td>0.0</td>\n",
       "      <td>13621990.0</td>\n",
       "      <td>NaN</td>\n",
       "      <td>0.695269</td>\n",
       "      <td>13621990.0</td>\n",
       "      <td>inf</td>\n",
       "      <td>0.062148</td>\n",
       "    </tr>\n",
       "    <tr>\n",
       "      <th>...</th>\n",
       "      <td>...</td>\n",
       "      <td>...</td>\n",
       "      <td>...</td>\n",
       "      <td>...</td>\n",
       "      <td>...</td>\n",
       "      <td>...</td>\n",
       "      <td>...</td>\n",
       "      <td>...</td>\n",
       "      <td>...</td>\n",
       "      <td>...</td>\n",
       "      <td>...</td>\n",
       "      <td>...</td>\n",
       "      <td>...</td>\n",
       "      <td>...</td>\n",
       "      <td>...</td>\n",
       "      <td>...</td>\n",
       "    </tr>\n",
       "    <tr>\n",
       "      <th>56</th>\n",
       "      <td>0.065</td>\n",
       "      <td>0.56</td>\n",
       "      <td>0.625</td>\n",
       "      <td>22208.914</td>\n",
       "      <td>38198.011</td>\n",
       "      <td>2.163985e+08</td>\n",
       "      <td>6.045029e+06</td>\n",
       "      <td>1.406590e+08</td>\n",
       "      <td>2.278574e+08</td>\n",
       "      <td>3482049.9</td>\n",
       "      <td>14458445.0</td>\n",
       "      <td>0.722997</td>\n",
       "      <td>0.664775</td>\n",
       "      <td>17940494.9</td>\n",
       "      <td>0.127546</td>\n",
       "      <td>2.967810</td>\n",
       "    </tr>\n",
       "    <tr>\n",
       "      <th>57</th>\n",
       "      <td>0.065</td>\n",
       "      <td>0.57</td>\n",
       "      <td>0.635</td>\n",
       "      <td>22208.914</td>\n",
       "      <td>38198.011</td>\n",
       "      <td>2.163985e+08</td>\n",
       "      <td>6.045029e+06</td>\n",
       "      <td>1.406590e+08</td>\n",
       "      <td>2.278574e+08</td>\n",
       "      <td>3482049.9</td>\n",
       "      <td>14458445.0</td>\n",
       "      <td>0.722997</td>\n",
       "      <td>0.664775</td>\n",
       "      <td>17940494.9</td>\n",
       "      <td>0.127546</td>\n",
       "      <td>2.967810</td>\n",
       "    </tr>\n",
       "    <tr>\n",
       "      <th>58</th>\n",
       "      <td>0.065</td>\n",
       "      <td>0.58</td>\n",
       "      <td>0.645</td>\n",
       "      <td>22229.064</td>\n",
       "      <td>38252.147</td>\n",
       "      <td>2.164517e+08</td>\n",
       "      <td>6.045113e+06</td>\n",
       "      <td>1.406936e+08</td>\n",
       "      <td>2.278237e+08</td>\n",
       "      <td>3485209.1</td>\n",
       "      <td>14478936.0</td>\n",
       "      <td>0.722519</td>\n",
       "      <td>0.663994</td>\n",
       "      <td>17964145.1</td>\n",
       "      <td>0.127683</td>\n",
       "      <td>2.971681</td>\n",
       "    </tr>\n",
       "    <tr>\n",
       "      <th>59</th>\n",
       "      <td>0.065</td>\n",
       "      <td>0.59</td>\n",
       "      <td>0.655</td>\n",
       "      <td>22272.274</td>\n",
       "      <td>38368.239</td>\n",
       "      <td>2.165633e+08</td>\n",
       "      <td>6.044960e+06</td>\n",
       "      <td>1.407661e+08</td>\n",
       "      <td>2.277530e+08</td>\n",
       "      <td>3491983.9</td>\n",
       "      <td>14522879.0</td>\n",
       "      <td>0.721489</td>\n",
       "      <td>0.662316</td>\n",
       "      <td>18014862.9</td>\n",
       "      <td>0.127977</td>\n",
       "      <td>2.980146</td>\n",
       "    </tr>\n",
       "    <tr>\n",
       "      <th>60</th>\n",
       "      <td>0.065</td>\n",
       "      <td>0.60</td>\n",
       "      <td>0.665</td>\n",
       "      <td>22272.274</td>\n",
       "      <td>38368.239</td>\n",
       "      <td>2.165633e+08</td>\n",
       "      <td>6.044960e+06</td>\n",
       "      <td>1.407661e+08</td>\n",
       "      <td>2.277530e+08</td>\n",
       "      <td>3491983.9</td>\n",
       "      <td>14522879.0</td>\n",
       "      <td>0.721489</td>\n",
       "      <td>0.662316</td>\n",
       "      <td>18014862.9</td>\n",
       "      <td>0.127977</td>\n",
       "      <td>2.980146</td>\n",
       "    </tr>\n",
       "  </tbody>\n",
       "</table>\n",
       "<p>61 rows × 16 columns</p>\n",
       "</div>"
      ],
      "text/plain": [
       "    hydrogen_cost_(£)  hydrogen_subsidy_(£)  hydrogen_cost+subsidy_(£)  \\\n",
       "0               0.065                  0.00                      0.065   \n",
       "1               0.065                  0.01                      0.075   \n",
       "2               0.065                  0.02                      0.085   \n",
       "3               0.065                  0.03                      0.095   \n",
       "4               0.065                  0.04                      0.105   \n",
       "..                ...                   ...                        ...   \n",
       "56              0.065                  0.56                      0.625   \n",
       "57              0.065                  0.57                      0.635   \n",
       "58              0.065                  0.58                      0.645   \n",
       "59              0.065                  0.59                      0.655   \n",
       "60              0.065                  0.60                      0.665   \n",
       "\n",
       "    electrolysis_capacity(hydrogen)_(kW)  osw_capacity_(kW)  \\\n",
       "0                                  0.000          35988.165   \n",
       "1                                  0.000          35988.165   \n",
       "2                                  0.000          35988.165   \n",
       "3                                  0.000          35988.165   \n",
       "4                                  0.000          35988.165   \n",
       "..                                   ...                ...   \n",
       "56                             22208.914          38198.011   \n",
       "57                             22208.914          38198.011   \n",
       "58                             22229.064          38252.147   \n",
       "59                             22272.274          38368.239   \n",
       "60                             22272.274          38368.239   \n",
       "\n",
       "    osw_elec_consumed_by_electrolyser_(kWh)  osw_elec_exported_to_grid_(kWh)  \\\n",
       "0                             -0.000000e+00                     2.191878e+08   \n",
       "1                             -0.000000e+00                     2.191878e+08   \n",
       "2                             -0.000000e+00                     2.191878e+08   \n",
       "3                             -0.000000e+00                     2.191878e+08   \n",
       "4                             -0.000000e+00                     2.191878e+08   \n",
       "..                                      ...                              ...   \n",
       "56                             2.163985e+08                     6.045029e+06   \n",
       "57                             2.163985e+08                     6.045029e+06   \n",
       "58                             2.164517e+08                     6.045113e+06   \n",
       "59                             2.165633e+08                     6.044960e+06   \n",
       "60                             2.165633e+08                     6.044960e+06   \n",
       "\n",
       "    green_hydrogen_prod_(kWh)  alt_hydrogen_prod_(kWh)  electrolysis_cost_(£)  \\\n",
       "0                0.000000e+00             3.650000e+08                    0.0   \n",
       "1                0.000000e+00             3.650000e+08                    0.0   \n",
       "2                0.000000e+00             3.650000e+08                    0.0   \n",
       "3                0.000000e+00             3.650000e+08                    0.0   \n",
       "4                0.000000e+00             3.650000e+08                    0.0   \n",
       "..                        ...                      ...                    ...   \n",
       "56               1.406590e+08             2.278574e+08              3482049.9   \n",
       "57               1.406590e+08             2.278574e+08              3482049.9   \n",
       "58               1.406936e+08             2.278237e+08              3485209.1   \n",
       "59               1.407661e+08             2.277530e+08              3491983.9   \n",
       "60               1.407661e+08             2.277530e+08              3491983.9   \n",
       "\n",
       "    osw_cost_(£)  electrolysis_capfactor  osw_capfactor  \\\n",
       "0     13621990.0                     NaN       0.695269   \n",
       "1     13621990.0                     NaN       0.695269   \n",
       "2     13621990.0                     NaN       0.695269   \n",
       "3     13621990.0                     NaN       0.695269   \n",
       "4     13621990.0                     NaN       0.695269   \n",
       "..           ...                     ...            ...   \n",
       "56    14458445.0                0.722997       0.664775   \n",
       "57    14458445.0                0.722997       0.664775   \n",
       "58    14478936.0                0.722519       0.663994   \n",
       "59    14522879.0                0.721489       0.662316   \n",
       "60    14522879.0                0.721489       0.662316   \n",
       "\n",
       "    total_system_cost_(£)  LCOE(hydrogen)_(£/kWh)  LCOE(elec)_(£/kWh)  \n",
       "0              13621990.0                     inf            0.062148  \n",
       "1              13621990.0                     inf            0.062148  \n",
       "2              13621990.0                     inf            0.062148  \n",
       "3              13621990.0                     inf            0.062148  \n",
       "4              13621990.0                     inf            0.062148  \n",
       "..                    ...                     ...                 ...  \n",
       "56             17940494.9                0.127546            2.967810  \n",
       "57             17940494.9                0.127546            2.967810  \n",
       "58             17964145.1                0.127683            2.971681  \n",
       "59             18014862.9                0.127977            2.980146  \n",
       "60             18014862.9                0.127977            2.980146  \n",
       "\n",
       "[61 rows x 16 columns]"
      ]
     },
     "execution_count": 8,
     "metadata": {},
     "output_type": "execute_result"
    }
   ],
   "source": [
    "cs1_data"
   ]
  },
  {
   "cell_type": "code",
   "execution_count": 9,
   "id": "engaging-outline",
   "metadata": {
    "scrolled": false
   },
   "outputs": [
    {
     "data": {
      "text/plain": [
       "<AxesSubplot:xlabel='hydrogen_cost+subsidy_(£)'>"
      ]
     },
     "execution_count": 9,
     "metadata": {},
     "output_type": "execute_result"
    },
    {
     "data": {
      "image/png": "[encoded data removed]",
      "text/plain": [
       "<Figure size 432x288 with 1 Axes>"
      ]
     },
     "metadata": {
      "needs_background": "light"
     },
     "output_type": "display_data"
    }
   ],
   "source": [
    "cs1_data.plot(x=\"hydrogen_cost+subsidy_(£)\", y='electrolysis_capacity(hydrogen)_(kW)')"
   ]
  },
  {
   "cell_type": "code",
   "execution_count": 10,
   "id": "welcome-albuquerque",
   "metadata": {
    "scrolled": false
   },
   "outputs": [
    {
     "data": {
      "text/plain": [
       "<AxesSubplot:xlabel='electrolysis_capacity(hydrogen)_(kW)'>"
      ]
     },
     "execution_count": 10,
     "metadata": {},
     "output_type": "execute_result"
    },
    {
     "data": {
      "image/png": "[encoded data removed]",
      "text/plain": [
       "<Figure size 432x288 with 1 Axes>"
      ]
     },
     "metadata": {
      "needs_background": "light"
     },
     "output_type": "display_data"
    }
   ],
   "source": [
    "cs1_data.plot(x=\"electrolysis_capacity(hydrogen)_(kW)\", y='LCOE(hydrogen)_(£/kWh)')"
   ]
  },
  {
   "cell_type": "code",
   "execution_count": 11,
   "id": "adjacent-reply",
   "metadata": {
    "scrolled": false
   },
   "outputs": [
    {
     "data": {
      "text/plain": [
       "<AxesSubplot:xlabel='electrolysis_capacity(hydrogen)_(kW)'>"
      ]
     },
     "execution_count": 11,
     "metadata": {},
     "output_type": "execute_result"
    },
    {
     "data": {
      "image/png": "[encoded data removed]",
      "text/plain": [
       "<Figure size 432x288 with 1 Axes>"
      ]
     },
     "metadata": {
      "needs_background": "light"
     },
     "output_type": "display_data"
    }
   ],
   "source": [
    "cs1_data.plot(x=\"electrolysis_capacity(hydrogen)_(kW)\", y='electrolysis_capfactor')"
   ]
  },
  {
   "cell_type": "code",
   "execution_count": 12,
   "id": "amended-window",
   "metadata": {},
   "outputs": [
    {
     "data": {
      "text/plain": [
       "<AxesSubplot:xlabel='hydrogen_cost+subsidy_(£)'>"
      ]
     },
     "execution_count": 12,
     "metadata": {},
     "output_type": "execute_result"
    },
    {
     "data": {
      "image/png": "[encoded data removed]",
      "text/plain": [
       "<Figure size 432x288 with 1 Axes>"
      ]
     },
     "metadata": {
      "needs_background": "light"
     },
     "output_type": "display_data"
    }
   ],
   "source": [
    "cs1_data.plot(x=\"hydrogen_cost+subsidy_(£)\", y=['osw_elec_exported_to_grid_(kWh)','osw_elec_consumed_by_electrolyser_(kWh)'])"
   ]
  },
  {
   "cell_type": "code",
   "execution_count": 22,
   "id": "continuous-visibility",
   "metadata": {
    "scrolled": true
   },
   "outputs": [],
   "source": [
    "cs2_data = cost_iteration(scenarios[electricity_price][time_period][\"cs2\"],hydrogen_cost,hydrogen_subsidy)\n",
    "ws.Beep(3000,10) #to let user know it's finished running"
   ]
  },
  {
   "cell_type": "code",
   "execution_count": 8,
   "id": "forward-thesis",
   "metadata": {
    "scrolled": true
   },
   "outputs": [
    {
     "data": {
      "text/html": [
       "<div>\n",
       "<style scoped>\n",
       "    .dataframe tbody tr th:only-of-type {\n",
       "        vertical-align: middle;\n",
       "    }\n",
       "\n",
       "    .dataframe tbody tr th {\n",
       "        vertical-align: top;\n",
       "    }\n",
       "\n",
       "    .dataframe thead th {\n",
       "        text-align: right;\n",
       "    }\n",
       "</style>\n",
       "<table border=\"1\" class=\"dataframe\">\n",
       "  <thead>\n",
       "    <tr style=\"text-align: right;\">\n",
       "      <th></th>\n",
       "      <th>hydrogen_cost_(£)</th>\n",
       "      <th>hydrogen_subsidy_(£)</th>\n",
       "      <th>hydrogen_cost+subsidy_(£)</th>\n",
       "      <th>electrolysis_capacity(hydrogen)_(kW)</th>\n",
       "      <th>osw_capacity_(kW)</th>\n",
       "      <th>osw_elec_consumed_by_electrolyser_(kWh)</th>\n",
       "      <th>osw_elec_exported_to_grid_(kWh)</th>\n",
       "      <th>green_hydrogen_prod_(kWh)</th>\n",
       "      <th>alt_hydrogen_prod_(kWh)</th>\n",
       "      <th>electrolysis_cost_(£)</th>\n",
       "      <th>osw_cost_(£)</th>\n",
       "      <th>electrolysis_capfactor</th>\n",
       "      <th>osw_capfactor</th>\n",
       "      <th>total_system_cost_(£)</th>\n",
       "      <th>LCOE(hydrogen)_(£/kWh)</th>\n",
       "      <th>LCOE(elec)_(£/kWh)</th>\n",
       "    </tr>\n",
       "  </thead>\n",
       "  <tbody>\n",
       "    <tr>\n",
       "      <th>0</th>\n",
       "      <td>0.065</td>\n",
       "      <td>0.00</td>\n",
       "      <td>0.065</td>\n",
       "      <td>0.000</td>\n",
       "      <td>35988.165</td>\n",
       "      <td>-0.000000e+00</td>\n",
       "      <td>2.191878e+08</td>\n",
       "      <td>0.000000e+00</td>\n",
       "      <td>3.650000e+08</td>\n",
       "      <td>0.0</td>\n",
       "      <td>13621990.0</td>\n",
       "      <td>NaN</td>\n",
       "      <td>0.695269</td>\n",
       "      <td>13621990.0</td>\n",
       "      <td>inf</td>\n",
       "      <td>0.062148</td>\n",
       "    </tr>\n",
       "    <tr>\n",
       "      <th>1</th>\n",
       "      <td>0.065</td>\n",
       "      <td>0.01</td>\n",
       "      <td>0.075</td>\n",
       "      <td>0.000</td>\n",
       "      <td>35988.165</td>\n",
       "      <td>-0.000000e+00</td>\n",
       "      <td>2.191878e+08</td>\n",
       "      <td>0.000000e+00</td>\n",
       "      <td>3.650000e+08</td>\n",
       "      <td>0.0</td>\n",
       "      <td>13621990.0</td>\n",
       "      <td>NaN</td>\n",
       "      <td>0.695269</td>\n",
       "      <td>13621990.0</td>\n",
       "      <td>inf</td>\n",
       "      <td>0.062148</td>\n",
       "    </tr>\n",
       "    <tr>\n",
       "      <th>2</th>\n",
       "      <td>0.065</td>\n",
       "      <td>0.02</td>\n",
       "      <td>0.085</td>\n",
       "      <td>0.000</td>\n",
       "      <td>35988.165</td>\n",
       "      <td>-0.000000e+00</td>\n",
       "      <td>2.191878e+08</td>\n",
       "      <td>0.000000e+00</td>\n",
       "      <td>3.650000e+08</td>\n",
       "      <td>0.0</td>\n",
       "      <td>13621990.0</td>\n",
       "      <td>NaN</td>\n",
       "      <td>0.695269</td>\n",
       "      <td>13621990.0</td>\n",
       "      <td>inf</td>\n",
       "      <td>0.062148</td>\n",
       "    </tr>\n",
       "    <tr>\n",
       "      <th>3</th>\n",
       "      <td>0.065</td>\n",
       "      <td>0.03</td>\n",
       "      <td>0.095</td>\n",
       "      <td>0.000</td>\n",
       "      <td>35988.165</td>\n",
       "      <td>-0.000000e+00</td>\n",
       "      <td>2.191878e+08</td>\n",
       "      <td>0.000000e+00</td>\n",
       "      <td>3.650000e+08</td>\n",
       "      <td>0.0</td>\n",
       "      <td>13621990.0</td>\n",
       "      <td>NaN</td>\n",
       "      <td>0.695269</td>\n",
       "      <td>13621990.0</td>\n",
       "      <td>inf</td>\n",
       "      <td>0.062148</td>\n",
       "    </tr>\n",
       "    <tr>\n",
       "      <th>4</th>\n",
       "      <td>0.065</td>\n",
       "      <td>0.04</td>\n",
       "      <td>0.105</td>\n",
       "      <td>0.000</td>\n",
       "      <td>35988.165</td>\n",
       "      <td>-0.000000e+00</td>\n",
       "      <td>2.191878e+08</td>\n",
       "      <td>0.000000e+00</td>\n",
       "      <td>3.650000e+08</td>\n",
       "      <td>0.0</td>\n",
       "      <td>13621990.0</td>\n",
       "      <td>NaN</td>\n",
       "      <td>0.695269</td>\n",
       "      <td>13621990.0</td>\n",
       "      <td>inf</td>\n",
       "      <td>0.062148</td>\n",
       "    </tr>\n",
       "    <tr>\n",
       "      <th>...</th>\n",
       "      <td>...</td>\n",
       "      <td>...</td>\n",
       "      <td>...</td>\n",
       "      <td>...</td>\n",
       "      <td>...</td>\n",
       "      <td>...</td>\n",
       "      <td>...</td>\n",
       "      <td>...</td>\n",
       "      <td>...</td>\n",
       "      <td>...</td>\n",
       "      <td>...</td>\n",
       "      <td>...</td>\n",
       "      <td>...</td>\n",
       "      <td>...</td>\n",
       "      <td>...</td>\n",
       "      <td>...</td>\n",
       "    </tr>\n",
       "    <tr>\n",
       "      <th>56</th>\n",
       "      <td>0.065</td>\n",
       "      <td>0.56</td>\n",
       "      <td>0.625</td>\n",
       "      <td>22208.914</td>\n",
       "      <td>38198.011</td>\n",
       "      <td>2.163985e+08</td>\n",
       "      <td>6.045029e+06</td>\n",
       "      <td>1.406590e+08</td>\n",
       "      <td>2.278574e+08</td>\n",
       "      <td>3482049.9</td>\n",
       "      <td>14458445.0</td>\n",
       "      <td>0.722997</td>\n",
       "      <td>0.664775</td>\n",
       "      <td>17940494.9</td>\n",
       "      <td>0.127546</td>\n",
       "      <td>2.967810</td>\n",
       "    </tr>\n",
       "    <tr>\n",
       "      <th>57</th>\n",
       "      <td>0.065</td>\n",
       "      <td>0.57</td>\n",
       "      <td>0.635</td>\n",
       "      <td>22208.914</td>\n",
       "      <td>38198.011</td>\n",
       "      <td>2.163985e+08</td>\n",
       "      <td>6.045029e+06</td>\n",
       "      <td>1.406590e+08</td>\n",
       "      <td>2.278574e+08</td>\n",
       "      <td>3482049.9</td>\n",
       "      <td>14458445.0</td>\n",
       "      <td>0.722997</td>\n",
       "      <td>0.664775</td>\n",
       "      <td>17940494.9</td>\n",
       "      <td>0.127546</td>\n",
       "      <td>2.967810</td>\n",
       "    </tr>\n",
       "    <tr>\n",
       "      <th>58</th>\n",
       "      <td>0.065</td>\n",
       "      <td>0.58</td>\n",
       "      <td>0.645</td>\n",
       "      <td>22229.064</td>\n",
       "      <td>38252.147</td>\n",
       "      <td>2.164517e+08</td>\n",
       "      <td>6.045113e+06</td>\n",
       "      <td>1.406936e+08</td>\n",
       "      <td>2.278237e+08</td>\n",
       "      <td>3485209.1</td>\n",
       "      <td>14478936.0</td>\n",
       "      <td>0.722519</td>\n",
       "      <td>0.663994</td>\n",
       "      <td>17964145.1</td>\n",
       "      <td>0.127683</td>\n",
       "      <td>2.971681</td>\n",
       "    </tr>\n",
       "    <tr>\n",
       "      <th>59</th>\n",
       "      <td>0.065</td>\n",
       "      <td>0.59</td>\n",
       "      <td>0.655</td>\n",
       "      <td>22272.274</td>\n",
       "      <td>38368.239</td>\n",
       "      <td>2.165633e+08</td>\n",
       "      <td>6.044960e+06</td>\n",
       "      <td>1.407661e+08</td>\n",
       "      <td>2.277530e+08</td>\n",
       "      <td>3491983.9</td>\n",
       "      <td>14522879.0</td>\n",
       "      <td>0.721489</td>\n",
       "      <td>0.662316</td>\n",
       "      <td>18014862.9</td>\n",
       "      <td>0.127977</td>\n",
       "      <td>2.980146</td>\n",
       "    </tr>\n",
       "    <tr>\n",
       "      <th>60</th>\n",
       "      <td>0.065</td>\n",
       "      <td>0.60</td>\n",
       "      <td>0.665</td>\n",
       "      <td>22272.274</td>\n",
       "      <td>38368.239</td>\n",
       "      <td>2.165633e+08</td>\n",
       "      <td>6.044960e+06</td>\n",
       "      <td>1.407661e+08</td>\n",
       "      <td>2.277530e+08</td>\n",
       "      <td>3491983.9</td>\n",
       "      <td>14522879.0</td>\n",
       "      <td>0.721489</td>\n",
       "      <td>0.662316</td>\n",
       "      <td>18014862.9</td>\n",
       "      <td>0.127977</td>\n",
       "      <td>2.980146</td>\n",
       "    </tr>\n",
       "  </tbody>\n",
       "</table>\n",
       "<p>61 rows × 16 columns</p>\n",
       "</div>"
      ],
      "text/plain": [
       "    hydrogen_cost_(£)  hydrogen_subsidy_(£)  hydrogen_cost+subsidy_(£)  \\\n",
       "0               0.065                  0.00                      0.065   \n",
       "1               0.065                  0.01                      0.075   \n",
       "2               0.065                  0.02                      0.085   \n",
       "3               0.065                  0.03                      0.095   \n",
       "4               0.065                  0.04                      0.105   \n",
       "..                ...                   ...                        ...   \n",
       "56              0.065                  0.56                      0.625   \n",
       "57              0.065                  0.57                      0.635   \n",
       "58              0.065                  0.58                      0.645   \n",
       "59              0.065                  0.59                      0.655   \n",
       "60              0.065                  0.60                      0.665   \n",
       "\n",
       "    electrolysis_capacity(hydrogen)_(kW)  osw_capacity_(kW)  \\\n",
       "0                                  0.000          35988.165   \n",
       "1                                  0.000          35988.165   \n",
       "2                                  0.000          35988.165   \n",
       "3                                  0.000          35988.165   \n",
       "4                                  0.000          35988.165   \n",
       "..                                   ...                ...   \n",
       "56                             22208.914          38198.011   \n",
       "57                             22208.914          38198.011   \n",
       "58                             22229.064          38252.147   \n",
       "59                             22272.274          38368.239   \n",
       "60                             22272.274          38368.239   \n",
       "\n",
       "    osw_elec_consumed_by_electrolyser_(kWh)  osw_elec_exported_to_grid_(kWh)  \\\n",
       "0                             -0.000000e+00                     2.191878e+08   \n",
       "1                             -0.000000e+00                     2.191878e+08   \n",
       "2                             -0.000000e+00                     2.191878e+08   \n",
       "3                             -0.000000e+00                     2.191878e+08   \n",
       "4                             -0.000000e+00                     2.191878e+08   \n",
       "..                                      ...                              ...   \n",
       "56                             2.163985e+08                     6.045029e+06   \n",
       "57                             2.163985e+08                     6.045029e+06   \n",
       "58                             2.164517e+08                     6.045113e+06   \n",
       "59                             2.165633e+08                     6.044960e+06   \n",
       "60                             2.165633e+08                     6.044960e+06   \n",
       "\n",
       "    green_hydrogen_prod_(kWh)  alt_hydrogen_prod_(kWh)  electrolysis_cost_(£)  \\\n",
       "0                0.000000e+00             3.650000e+08                    0.0   \n",
       "1                0.000000e+00             3.650000e+08                    0.0   \n",
       "2                0.000000e+00             3.650000e+08                    0.0   \n",
       "3                0.000000e+00             3.650000e+08                    0.0   \n",
       "4                0.000000e+00             3.650000e+08                    0.0   \n",
       "..                        ...                      ...                    ...   \n",
       "56               1.406590e+08             2.278574e+08              3482049.9   \n",
       "57               1.406590e+08             2.278574e+08              3482049.9   \n",
       "58               1.406936e+08             2.278237e+08              3485209.1   \n",
       "59               1.407661e+08             2.277530e+08              3491983.9   \n",
       "60               1.407661e+08             2.277530e+08              3491983.9   \n",
       "\n",
       "    osw_cost_(£)  electrolysis_capfactor  osw_capfactor  \\\n",
       "0     13621990.0                     NaN       0.695269   \n",
       "1     13621990.0                     NaN       0.695269   \n",
       "2     13621990.0                     NaN       0.695269   \n",
       "3     13621990.0                     NaN       0.695269   \n",
       "4     13621990.0                     NaN       0.695269   \n",
       "..           ...                     ...            ...   \n",
       "56    14458445.0                0.722997       0.664775   \n",
       "57    14458445.0                0.722997       0.664775   \n",
       "58    14478936.0                0.722519       0.663994   \n",
       "59    14522879.0                0.721489       0.662316   \n",
       "60    14522879.0                0.721489       0.662316   \n",
       "\n",
       "    total_system_cost_(£)  LCOE(hydrogen)_(£/kWh)  LCOE(elec)_(£/kWh)  \n",
       "0              13621990.0                     inf            0.062148  \n",
       "1              13621990.0                     inf            0.062148  \n",
       "2              13621990.0                     inf            0.062148  \n",
       "3              13621990.0                     inf            0.062148  \n",
       "4              13621990.0                     inf            0.062148  \n",
       "..                    ...                     ...                 ...  \n",
       "56             17940494.9                0.127546            2.967810  \n",
       "57             17940494.9                0.127546            2.967810  \n",
       "58             17964145.1                0.127683            2.971681  \n",
       "59             18014862.9                0.127977            2.980146  \n",
       "60             18014862.9                0.127977            2.980146  \n",
       "\n",
       "[61 rows x 16 columns]"
      ]
     },
     "execution_count": 8,
     "metadata": {},
     "output_type": "execute_result"
    }
   ],
   "source": [
    "cs2_data"
   ]
  },
  {
   "cell_type": "code",
   "execution_count": 9,
   "id": "extraordinary-browse",
   "metadata": {
    "scrolled": false
   },
   "outputs": [
    {
     "data": {
      "text/plain": [
       "<AxesSubplot:xlabel='hydrogen_cost+subsidy_(£)'>"
      ]
     },
     "execution_count": 9,
     "metadata": {},
     "output_type": "execute_result"
    },
    {
     "data": {
      "image/png": "[encoded data removed]",
      "text/plain": [
       "<Figure size 432x288 with 1 Axes>"
      ]
     },
     "metadata": {
      "needs_background": "light"
     },
     "output_type": "display_data"
    }
   ],
   "source": [
    "cs2_data.plot(x=\"hydrogen_cost+subsidy_(£)\", y='electrolysis_capacity(hydrogen)_(kW)')"
   ]
  },
  {
   "cell_type": "code",
   "execution_count": 10,
   "id": "contemporary-minutes",
   "metadata": {
    "scrolled": false
   },
   "outputs": [
    {
     "data": {
      "text/plain": [
       "<AxesSubplot:xlabel='electrolysis_capacity(hydrogen)_(kW)'>"
      ]
     },
     "execution_count": 10,
     "metadata": {},
     "output_type": "execute_result"
    },
    {
     "data": {
      "image/png": "[encoded data removed]",
      "text/plain": [
       "<Figure size 432x288 with 1 Axes>"
      ]
     },
     "metadata": {
      "needs_background": "light"
     },
     "output_type": "display_data"
    }
   ],
   "source": [
    "cs2_data.plot(x=\"electrolysis_capacity(hydrogen)_(kW)\", y='LCOE(hydrogen)_(£/kWh)')"
   ]
  },
  {
   "cell_type": "code",
   "execution_count": 11,
   "id": "spread-climate",
   "metadata": {
    "scrolled": false
   },
   "outputs": [
    {
     "data": {
      "text/plain": [
       "<AxesSubplot:xlabel='electrolysis_capacity(hydrogen)_(kW)'>"
      ]
     },
     "execution_count": 11,
     "metadata": {},
     "output_type": "execute_result"
    },
    {
     "data": {
      "image/png": "[encoded data removed]",
      "text/plain": [
       "<Figure size 432x288 with 1 Axes>"
      ]
     },
     "metadata": {
      "needs_background": "light"
     },
     "output_type": "display_data"
    }
   ],
   "source": [
    "cs2_data.plot(x=\"electrolysis_capacity(hydrogen)_(kW)\", y='electrolysis_capfactor')"
   ]
  },
  {
   "cell_type": "code",
   "execution_count": 12,
   "id": "chicken-custom",
   "metadata": {
    "scrolled": true
   },
   "outputs": [
    {
     "data": {
      "text/plain": [
       "<AxesSubplot:xlabel='hydrogen_cost+subsidy_(£)'>"
      ]
     },
     "execution_count": 12,
     "metadata": {},
     "output_type": "execute_result"
    },
    {
     "data": {
      "image/png": "[encoded data removed]",
      "text/plain": [
       "<Figure size 432x288 with 1 Axes>"
      ]
     },
     "metadata": {
      "needs_background": "light"
     },
     "output_type": "display_data"
    }
   ],
   "source": [
    "cs2_data.plot(x=\"hydrogen_cost+subsidy_(£)\", y=['osw_elec_exported_to_grid_(kWh)','osw_elec_consumed_by_electrolyser_(kWh)'])"
   ]
  },
  {
   "cell_type": "code",
   "execution_count": 22,
   "id": "equal-helen",
   "metadata": {
    "scrolled": true
   },
   "outputs": [],
   "source": [
    "cs3_data = cost_iteration(scenarios[electricity_price][time_period][\"cs3\"],hydrogen_cost,hydrogen_subsidy)\n",
    "ws.Beep(3000,10) #to let user know it's finished running"
   ]
  },
  {
   "cell_type": "code",
   "execution_count": 8,
   "id": "human-questionnaire",
   "metadata": {
    "scrolled": true
   },
   "outputs": [
    {
     "data": {
      "text/html": [
       "<div>\n",
       "<style scoped>\n",
       "    .dataframe tbody tr th:only-of-type {\n",
       "        vertical-align: middle;\n",
       "    }\n",
       "\n",
       "    .dataframe tbody tr th {\n",
       "        vertical-align: top;\n",
       "    }\n",
       "\n",
       "    .dataframe thead th {\n",
       "        text-align: right;\n",
       "    }\n",
       "</style>\n",
       "<table border=\"1\" class=\"dataframe\">\n",
       "  <thead>\n",
       "    <tr style=\"text-align: right;\">\n",
       "      <th></th>\n",
       "      <th>hydrogen_cost_(£)</th>\n",
       "      <th>hydrogen_subsidy_(£)</th>\n",
       "      <th>hydrogen_cost+subsidy_(£)</th>\n",
       "      <th>electrolysis_capacity(hydrogen)_(kW)</th>\n",
       "      <th>osw_capacity_(kW)</th>\n",
       "      <th>osw_elec_consumed_by_electrolyser_(kWh)</th>\n",
       "      <th>osw_elec_exported_to_grid_(kWh)</th>\n",
       "      <th>green_hydrogen_prod_(kWh)</th>\n",
       "      <th>alt_hydrogen_prod_(kWh)</th>\n",
       "      <th>electrolysis_cost_(£)</th>\n",
       "      <th>osw_cost_(£)</th>\n",
       "      <th>electrolysis_capfactor</th>\n",
       "      <th>osw_capfactor</th>\n",
       "      <th>total_system_cost_(£)</th>\n",
       "      <th>LCOE(hydrogen)_(£/kWh)</th>\n",
       "      <th>LCOE(elec)_(£/kWh)</th>\n",
       "    </tr>\n",
       "  </thead>\n",
       "  <tbody>\n",
       "    <tr>\n",
       "      <th>0</th>\n",
       "      <td>0.065</td>\n",
       "      <td>0.00</td>\n",
       "      <td>0.065</td>\n",
       "      <td>0.000</td>\n",
       "      <td>35988.165</td>\n",
       "      <td>-0.000000e+00</td>\n",
       "      <td>2.191878e+08</td>\n",
       "      <td>0.000000e+00</td>\n",
       "      <td>3.650000e+08</td>\n",
       "      <td>0.0</td>\n",
       "      <td>13621990.0</td>\n",
       "      <td>NaN</td>\n",
       "      <td>0.695269</td>\n",
       "      <td>13621990.0</td>\n",
       "      <td>inf</td>\n",
       "      <td>0.062148</td>\n",
       "    </tr>\n",
       "    <tr>\n",
       "      <th>1</th>\n",
       "      <td>0.065</td>\n",
       "      <td>0.01</td>\n",
       "      <td>0.075</td>\n",
       "      <td>0.000</td>\n",
       "      <td>35988.165</td>\n",
       "      <td>-0.000000e+00</td>\n",
       "      <td>2.191878e+08</td>\n",
       "      <td>0.000000e+00</td>\n",
       "      <td>3.650000e+08</td>\n",
       "      <td>0.0</td>\n",
       "      <td>13621990.0</td>\n",
       "      <td>NaN</td>\n",
       "      <td>0.695269</td>\n",
       "      <td>13621990.0</td>\n",
       "      <td>inf</td>\n",
       "      <td>0.062148</td>\n",
       "    </tr>\n",
       "    <tr>\n",
       "      <th>2</th>\n",
       "      <td>0.065</td>\n",
       "      <td>0.02</td>\n",
       "      <td>0.085</td>\n",
       "      <td>0.000</td>\n",
       "      <td>35988.165</td>\n",
       "      <td>-0.000000e+00</td>\n",
       "      <td>2.191878e+08</td>\n",
       "      <td>0.000000e+00</td>\n",
       "      <td>3.650000e+08</td>\n",
       "      <td>0.0</td>\n",
       "      <td>13621990.0</td>\n",
       "      <td>NaN</td>\n",
       "      <td>0.695269</td>\n",
       "      <td>13621990.0</td>\n",
       "      <td>inf</td>\n",
       "      <td>0.062148</td>\n",
       "    </tr>\n",
       "    <tr>\n",
       "      <th>3</th>\n",
       "      <td>0.065</td>\n",
       "      <td>0.03</td>\n",
       "      <td>0.095</td>\n",
       "      <td>0.000</td>\n",
       "      <td>35988.165</td>\n",
       "      <td>-0.000000e+00</td>\n",
       "      <td>2.191878e+08</td>\n",
       "      <td>0.000000e+00</td>\n",
       "      <td>3.650000e+08</td>\n",
       "      <td>0.0</td>\n",
       "      <td>13621990.0</td>\n",
       "      <td>NaN</td>\n",
       "      <td>0.695269</td>\n",
       "      <td>13621990.0</td>\n",
       "      <td>inf</td>\n",
       "      <td>0.062148</td>\n",
       "    </tr>\n",
       "    <tr>\n",
       "      <th>4</th>\n",
       "      <td>0.065</td>\n",
       "      <td>0.04</td>\n",
       "      <td>0.105</td>\n",
       "      <td>0.000</td>\n",
       "      <td>35988.165</td>\n",
       "      <td>-0.000000e+00</td>\n",
       "      <td>2.191878e+08</td>\n",
       "      <td>0.000000e+00</td>\n",
       "      <td>3.650000e+08</td>\n",
       "      <td>0.0</td>\n",
       "      <td>13621990.0</td>\n",
       "      <td>NaN</td>\n",
       "      <td>0.695269</td>\n",
       "      <td>13621990.0</td>\n",
       "      <td>inf</td>\n",
       "      <td>0.062148</td>\n",
       "    </tr>\n",
       "    <tr>\n",
       "      <th>...</th>\n",
       "      <td>...</td>\n",
       "      <td>...</td>\n",
       "      <td>...</td>\n",
       "      <td>...</td>\n",
       "      <td>...</td>\n",
       "      <td>...</td>\n",
       "      <td>...</td>\n",
       "      <td>...</td>\n",
       "      <td>...</td>\n",
       "      <td>...</td>\n",
       "      <td>...</td>\n",
       "      <td>...</td>\n",
       "      <td>...</td>\n",
       "      <td>...</td>\n",
       "      <td>...</td>\n",
       "      <td>...</td>\n",
       "    </tr>\n",
       "    <tr>\n",
       "      <th>56</th>\n",
       "      <td>0.065</td>\n",
       "      <td>0.56</td>\n",
       "      <td>0.625</td>\n",
       "      <td>22208.914</td>\n",
       "      <td>38198.011</td>\n",
       "      <td>2.163985e+08</td>\n",
       "      <td>6.045029e+06</td>\n",
       "      <td>1.406590e+08</td>\n",
       "      <td>2.278574e+08</td>\n",
       "      <td>3482049.9</td>\n",
       "      <td>14458445.0</td>\n",
       "      <td>0.722997</td>\n",
       "      <td>0.664775</td>\n",
       "      <td>17940494.9</td>\n",
       "      <td>0.127546</td>\n",
       "      <td>2.967810</td>\n",
       "    </tr>\n",
       "    <tr>\n",
       "      <th>57</th>\n",
       "      <td>0.065</td>\n",
       "      <td>0.57</td>\n",
       "      <td>0.635</td>\n",
       "      <td>22208.914</td>\n",
       "      <td>38198.011</td>\n",
       "      <td>2.163985e+08</td>\n",
       "      <td>6.045029e+06</td>\n",
       "      <td>1.406590e+08</td>\n",
       "      <td>2.278574e+08</td>\n",
       "      <td>3482049.9</td>\n",
       "      <td>14458445.0</td>\n",
       "      <td>0.722997</td>\n",
       "      <td>0.664775</td>\n",
       "      <td>17940494.9</td>\n",
       "      <td>0.127546</td>\n",
       "      <td>2.967810</td>\n",
       "    </tr>\n",
       "    <tr>\n",
       "      <th>58</th>\n",
       "      <td>0.065</td>\n",
       "      <td>0.58</td>\n",
       "      <td>0.645</td>\n",
       "      <td>22229.064</td>\n",
       "      <td>38252.147</td>\n",
       "      <td>2.164517e+08</td>\n",
       "      <td>6.045113e+06</td>\n",
       "      <td>1.406936e+08</td>\n",
       "      <td>2.278237e+08</td>\n",
       "      <td>3485209.1</td>\n",
       "      <td>14478936.0</td>\n",
       "      <td>0.722519</td>\n",
       "      <td>0.663994</td>\n",
       "      <td>17964145.1</td>\n",
       "      <td>0.127683</td>\n",
       "      <td>2.971681</td>\n",
       "    </tr>\n",
       "    <tr>\n",
       "      <th>59</th>\n",
       "      <td>0.065</td>\n",
       "      <td>0.59</td>\n",
       "      <td>0.655</td>\n",
       "      <td>22272.274</td>\n",
       "      <td>38368.239</td>\n",
       "      <td>2.165633e+08</td>\n",
       "      <td>6.044960e+06</td>\n",
       "      <td>1.407661e+08</td>\n",
       "      <td>2.277530e+08</td>\n",
       "      <td>3491983.9</td>\n",
       "      <td>14522879.0</td>\n",
       "      <td>0.721489</td>\n",
       "      <td>0.662316</td>\n",
       "      <td>18014862.9</td>\n",
       "      <td>0.127977</td>\n",
       "      <td>2.980146</td>\n",
       "    </tr>\n",
       "    <tr>\n",
       "      <th>60</th>\n",
       "      <td>0.065</td>\n",
       "      <td>0.60</td>\n",
       "      <td>0.665</td>\n",
       "      <td>22272.274</td>\n",
       "      <td>38368.239</td>\n",
       "      <td>2.165633e+08</td>\n",
       "      <td>6.044960e+06</td>\n",
       "      <td>1.407661e+08</td>\n",
       "      <td>2.277530e+08</td>\n",
       "      <td>3491983.9</td>\n",
       "      <td>14522879.0</td>\n",
       "      <td>0.721489</td>\n",
       "      <td>0.662316</td>\n",
       "      <td>18014862.9</td>\n",
       "      <td>0.127977</td>\n",
       "      <td>2.980146</td>\n",
       "    </tr>\n",
       "  </tbody>\n",
       "</table>\n",
       "<p>61 rows × 16 columns</p>\n",
       "</div>"
      ],
      "text/plain": [
       "    hydrogen_cost_(£)  hydrogen_subsidy_(£)  hydrogen_cost+subsidy_(£)  \\\n",
       "0               0.065                  0.00                      0.065   \n",
       "1               0.065                  0.01                      0.075   \n",
       "2               0.065                  0.02                      0.085   \n",
       "3               0.065                  0.03                      0.095   \n",
       "4               0.065                  0.04                      0.105   \n",
       "..                ...                   ...                        ...   \n",
       "56              0.065                  0.56                      0.625   \n",
       "57              0.065                  0.57                      0.635   \n",
       "58              0.065                  0.58                      0.645   \n",
       "59              0.065                  0.59                      0.655   \n",
       "60              0.065                  0.60                      0.665   \n",
       "\n",
       "    electrolysis_capacity(hydrogen)_(kW)  osw_capacity_(kW)  \\\n",
       "0                                  0.000          35988.165   \n",
       "1                                  0.000          35988.165   \n",
       "2                                  0.000          35988.165   \n",
       "3                                  0.000          35988.165   \n",
       "4                                  0.000          35988.165   \n",
       "..                                   ...                ...   \n",
       "56                             22208.914          38198.011   \n",
       "57                             22208.914          38198.011   \n",
       "58                             22229.064          38252.147   \n",
       "59                             22272.274          38368.239   \n",
       "60                             22272.274          38368.239   \n",
       "\n",
       "    osw_elec_consumed_by_electrolyser_(kWh)  osw_elec_exported_to_grid_(kWh)  \\\n",
       "0                             -0.000000e+00                     2.191878e+08   \n",
       "1                             -0.000000e+00                     2.191878e+08   \n",
       "2                             -0.000000e+00                     2.191878e+08   \n",
       "3                             -0.000000e+00                     2.191878e+08   \n",
       "4                             -0.000000e+00                     2.191878e+08   \n",
       "..                                      ...                              ...   \n",
       "56                             2.163985e+08                     6.045029e+06   \n",
       "57                             2.163985e+08                     6.045029e+06   \n",
       "58                             2.164517e+08                     6.045113e+06   \n",
       "59                             2.165633e+08                     6.044960e+06   \n",
       "60                             2.165633e+08                     6.044960e+06   \n",
       "\n",
       "    green_hydrogen_prod_(kWh)  alt_hydrogen_prod_(kWh)  electrolysis_cost_(£)  \\\n",
       "0                0.000000e+00             3.650000e+08                    0.0   \n",
       "1                0.000000e+00             3.650000e+08                    0.0   \n",
       "2                0.000000e+00             3.650000e+08                    0.0   \n",
       "3                0.000000e+00             3.650000e+08                    0.0   \n",
       "4                0.000000e+00             3.650000e+08                    0.0   \n",
       "..                        ...                      ...                    ...   \n",
       "56               1.406590e+08             2.278574e+08              3482049.9   \n",
       "57               1.406590e+08             2.278574e+08              3482049.9   \n",
       "58               1.406936e+08             2.278237e+08              3485209.1   \n",
       "59               1.407661e+08             2.277530e+08              3491983.9   \n",
       "60               1.407661e+08             2.277530e+08              3491983.9   \n",
       "\n",
       "    osw_cost_(£)  electrolysis_capfactor  osw_capfactor  \\\n",
       "0     13621990.0                     NaN       0.695269   \n",
       "1     13621990.0                     NaN       0.695269   \n",
       "2     13621990.0                     NaN       0.695269   \n",
       "3     13621990.0                     NaN       0.695269   \n",
       "4     13621990.0                     NaN       0.695269   \n",
       "..           ...                     ...            ...   \n",
       "56    14458445.0                0.722997       0.664775   \n",
       "57    14458445.0                0.722997       0.664775   \n",
       "58    14478936.0                0.722519       0.663994   \n",
       "59    14522879.0                0.721489       0.662316   \n",
       "60    14522879.0                0.721489       0.662316   \n",
       "\n",
       "    total_system_cost_(£)  LCOE(hydrogen)_(£/kWh)  LCOE(elec)_(£/kWh)  \n",
       "0              13621990.0                     inf            0.062148  \n",
       "1              13621990.0                     inf            0.062148  \n",
       "2              13621990.0                     inf            0.062148  \n",
       "3              13621990.0                     inf            0.062148  \n",
       "4              13621990.0                     inf            0.062148  \n",
       "..                    ...                     ...                 ...  \n",
       "56             17940494.9                0.127546            2.967810  \n",
       "57             17940494.9                0.127546            2.967810  \n",
       "58             17964145.1                0.127683            2.971681  \n",
       "59             18014862.9                0.127977            2.980146  \n",
       "60             18014862.9                0.127977            2.980146  \n",
       "\n",
       "[61 rows x 16 columns]"
      ]
     },
     "execution_count": 8,
     "metadata": {},
     "output_type": "execute_result"
    }
   ],
   "source": [
    "cs1_data"
   ]
  },
  {
   "cell_type": "code",
   "execution_count": 9,
   "id": "joined-potter",
   "metadata": {
    "scrolled": false
   },
   "outputs": [
    {
     "data": {
      "text/plain": [
       "<AxesSubplot:xlabel='hydrogen_cost+subsidy_(£)'>"
      ]
     },
     "execution_count": 9,
     "metadata": {},
     "output_type": "execute_result"
    },
    {
     "data": {
      "image/png": "[encoded data removed]",
      "text/plain": [
       "<Figure size 432x288 with 1 Axes>"
      ]
     },
     "metadata": {
      "needs_background": "light"
     },
     "output_type": "display_data"
    }
   ],
   "source": [
    "cs3_data.plot(x=\"hydrogen_cost+subsidy_(£)\", y='electrolysis_capacity(hydrogen)_(kW)')"
   ]
  },
  {
   "cell_type": "code",
   "execution_count": 10,
   "id": "fantastic-blame",
   "metadata": {
    "scrolled": false
   },
   "outputs": [
    {
     "data": {
      "text/plain": [
       "<AxesSubplot:xlabel='electrolysis_capacity(hydrogen)_(kW)'>"
      ]
     },
     "execution_count": 10,
     "metadata": {},
     "output_type": "execute_result"
    },
    {
     "data": {
      "image/png": "[encoded data removed]",
      "text/plain": [
       "<Figure size 432x288 with 1 Axes>"
      ]
     },
     "metadata": {
      "needs_background": "light"
     },
     "output_type": "display_data"
    }
   ],
   "source": [
    "cs3_data.plot(x=\"electrolysis_capacity(hydrogen)_(kW)\", y='LCOE(hydrogen)_(£/kWh)')"
   ]
  },
  {
   "cell_type": "code",
   "execution_count": 11,
   "id": "devoted-restriction",
   "metadata": {
    "scrolled": false
   },
   "outputs": [
    {
     "data": {
      "text/plain": [
       "<AxesSubplot:xlabel='electrolysis_capacity(hydrogen)_(kW)'>"
      ]
     },
     "execution_count": 11,
     "metadata": {},
     "output_type": "execute_result"
    },
    {
     "data": {
      "image/png": "[encoded data removed]",
      "text/plain": [
       "<Figure size 432x288 with 1 Axes>"
      ]
     },
     "metadata": {
      "needs_background": "light"
     },
     "output_type": "display_data"
    }
   ],
   "source": [
    "cs3_data.plot(x=\"electrolysis_capacity(hydrogen)_(kW)\", y='electrolysis_capfactor')"
   ]
  },
  {
   "cell_type": "code",
   "execution_count": 12,
   "id": "reverse-amount",
   "metadata": {},
   "outputs": [
    {
     "data": {
      "text/plain": [
       "<AxesSubplot:xlabel='hydrogen_cost+subsidy_(£)'>"
      ]
     },
     "execution_count": 12,
     "metadata": {},
     "output_type": "execute_result"
    },
    {
     "data": {
      "image/png": "[encoded data removed]",
      "text/plain": [
       "<Figure size 432x288 with 1 Axes>"
      ]
     },
     "metadata": {
      "needs_background": "light"
     },
     "output_type": "display_data"
    }
   ],
   "source": [
    "cs3_data.plot(x=\"hydrogen_cost+subsidy_(£)\", y=['osw_elec_exported_to_grid_(kWh)','osw_elec_consumed_by_electrolyser_(kWh)'])"
   ]
  },
  {
   "cell_type": "code",
   "execution_count": 22,
   "id": "necessary-radical",
   "metadata": {
    "scrolled": true
   },
   "outputs": [],
   "source": [
    "cs4_data = cost_iteration(scenarios[electricity_price][time_period][\"cs4\"],hydrogen_cost,hydrogen_subsidy)\n",
    "ws.Beep(3000,10) #to let user know it's finished running"
   ]
  },
  {
   "cell_type": "code",
   "execution_count": 8,
   "id": "fabulous-furniture",
   "metadata": {
    "scrolled": true
   },
   "outputs": [
    {
     "data": {
      "text/html": [
       "<div>\n",
       "<style scoped>\n",
       "    .dataframe tbody tr th:only-of-type {\n",
       "        vertical-align: middle;\n",
       "    }\n",
       "\n",
       "    .dataframe tbody tr th {\n",
       "        vertical-align: top;\n",
       "    }\n",
       "\n",
       "    .dataframe thead th {\n",
       "        text-align: right;\n",
       "    }\n",
       "</style>\n",
       "<table border=\"1\" class=\"dataframe\">\n",
       "  <thead>\n",
       "    <tr style=\"text-align: right;\">\n",
       "      <th></th>\n",
       "      <th>hydrogen_cost_(£)</th>\n",
       "      <th>hydrogen_subsidy_(£)</th>\n",
       "      <th>hydrogen_cost+subsidy_(£)</th>\n",
       "      <th>electrolysis_capacity(hydrogen)_(kW)</th>\n",
       "      <th>osw_capacity_(kW)</th>\n",
       "      <th>osw_elec_consumed_by_electrolyser_(kWh)</th>\n",
       "      <th>osw_elec_exported_to_grid_(kWh)</th>\n",
       "      <th>green_hydrogen_prod_(kWh)</th>\n",
       "      <th>alt_hydrogen_prod_(kWh)</th>\n",
       "      <th>electrolysis_cost_(£)</th>\n",
       "      <th>osw_cost_(£)</th>\n",
       "      <th>electrolysis_capfactor</th>\n",
       "      <th>osw_capfactor</th>\n",
       "      <th>total_system_cost_(£)</th>\n",
       "      <th>LCOE(hydrogen)_(£/kWh)</th>\n",
       "      <th>LCOE(elec)_(£/kWh)</th>\n",
       "    </tr>\n",
       "  </thead>\n",
       "  <tbody>\n",
       "    <tr>\n",
       "      <th>0</th>\n",
       "      <td>0.065</td>\n",
       "      <td>0.00</td>\n",
       "      <td>0.065</td>\n",
       "      <td>0.000</td>\n",
       "      <td>35988.165</td>\n",
       "      <td>-0.000000e+00</td>\n",
       "      <td>2.191878e+08</td>\n",
       "      <td>0.000000e+00</td>\n",
       "      <td>3.650000e+08</td>\n",
       "      <td>0.0</td>\n",
       "      <td>13621990.0</td>\n",
       "      <td>NaN</td>\n",
       "      <td>0.695269</td>\n",
       "      <td>13621990.0</td>\n",
       "      <td>inf</td>\n",
       "      <td>0.062148</td>\n",
       "    </tr>\n",
       "    <tr>\n",
       "      <th>1</th>\n",
       "      <td>0.065</td>\n",
       "      <td>0.01</td>\n",
       "      <td>0.075</td>\n",
       "      <td>0.000</td>\n",
       "      <td>35988.165</td>\n",
       "      <td>-0.000000e+00</td>\n",
       "      <td>2.191878e+08</td>\n",
       "      <td>0.000000e+00</td>\n",
       "      <td>3.650000e+08</td>\n",
       "      <td>0.0</td>\n",
       "      <td>13621990.0</td>\n",
       "      <td>NaN</td>\n",
       "      <td>0.695269</td>\n",
       "      <td>13621990.0</td>\n",
       "      <td>inf</td>\n",
       "      <td>0.062148</td>\n",
       "    </tr>\n",
       "    <tr>\n",
       "      <th>2</th>\n",
       "      <td>0.065</td>\n",
       "      <td>0.02</td>\n",
       "      <td>0.085</td>\n",
       "      <td>0.000</td>\n",
       "      <td>35988.165</td>\n",
       "      <td>-0.000000e+00</td>\n",
       "      <td>2.191878e+08</td>\n",
       "      <td>0.000000e+00</td>\n",
       "      <td>3.650000e+08</td>\n",
       "      <td>0.0</td>\n",
       "      <td>13621990.0</td>\n",
       "      <td>NaN</td>\n",
       "      <td>0.695269</td>\n",
       "      <td>13621990.0</td>\n",
       "      <td>inf</td>\n",
       "      <td>0.062148</td>\n",
       "    </tr>\n",
       "    <tr>\n",
       "      <th>3</th>\n",
       "      <td>0.065</td>\n",
       "      <td>0.03</td>\n",
       "      <td>0.095</td>\n",
       "      <td>0.000</td>\n",
       "      <td>35988.165</td>\n",
       "      <td>-0.000000e+00</td>\n",
       "      <td>2.191878e+08</td>\n",
       "      <td>0.000000e+00</td>\n",
       "      <td>3.650000e+08</td>\n",
       "      <td>0.0</td>\n",
       "      <td>13621990.0</td>\n",
       "      <td>NaN</td>\n",
       "      <td>0.695269</td>\n",
       "      <td>13621990.0</td>\n",
       "      <td>inf</td>\n",
       "      <td>0.062148</td>\n",
       "    </tr>\n",
       "    <tr>\n",
       "      <th>4</th>\n",
       "      <td>0.065</td>\n",
       "      <td>0.04</td>\n",
       "      <td>0.105</td>\n",
       "      <td>0.000</td>\n",
       "      <td>35988.165</td>\n",
       "      <td>-0.000000e+00</td>\n",
       "      <td>2.191878e+08</td>\n",
       "      <td>0.000000e+00</td>\n",
       "      <td>3.650000e+08</td>\n",
       "      <td>0.0</td>\n",
       "      <td>13621990.0</td>\n",
       "      <td>NaN</td>\n",
       "      <td>0.695269</td>\n",
       "      <td>13621990.0</td>\n",
       "      <td>inf</td>\n",
       "      <td>0.062148</td>\n",
       "    </tr>\n",
       "    <tr>\n",
       "      <th>...</th>\n",
       "      <td>...</td>\n",
       "      <td>...</td>\n",
       "      <td>...</td>\n",
       "      <td>...</td>\n",
       "      <td>...</td>\n",
       "      <td>...</td>\n",
       "      <td>...</td>\n",
       "      <td>...</td>\n",
       "      <td>...</td>\n",
       "      <td>...</td>\n",
       "      <td>...</td>\n",
       "      <td>...</td>\n",
       "      <td>...</td>\n",
       "      <td>...</td>\n",
       "      <td>...</td>\n",
       "      <td>...</td>\n",
       "    </tr>\n",
       "    <tr>\n",
       "      <th>56</th>\n",
       "      <td>0.065</td>\n",
       "      <td>0.56</td>\n",
       "      <td>0.625</td>\n",
       "      <td>22208.914</td>\n",
       "      <td>38198.011</td>\n",
       "      <td>2.163985e+08</td>\n",
       "      <td>6.045029e+06</td>\n",
       "      <td>1.406590e+08</td>\n",
       "      <td>2.278574e+08</td>\n",
       "      <td>3482049.9</td>\n",
       "      <td>14458445.0</td>\n",
       "      <td>0.722997</td>\n",
       "      <td>0.664775</td>\n",
       "      <td>17940494.9</td>\n",
       "      <td>0.127546</td>\n",
       "      <td>2.967810</td>\n",
       "    </tr>\n",
       "    <tr>\n",
       "      <th>57</th>\n",
       "      <td>0.065</td>\n",
       "      <td>0.57</td>\n",
       "      <td>0.635</td>\n",
       "      <td>22208.914</td>\n",
       "      <td>38198.011</td>\n",
       "      <td>2.163985e+08</td>\n",
       "      <td>6.045029e+06</td>\n",
       "      <td>1.406590e+08</td>\n",
       "      <td>2.278574e+08</td>\n",
       "      <td>3482049.9</td>\n",
       "      <td>14458445.0</td>\n",
       "      <td>0.722997</td>\n",
       "      <td>0.664775</td>\n",
       "      <td>17940494.9</td>\n",
       "      <td>0.127546</td>\n",
       "      <td>2.967810</td>\n",
       "    </tr>\n",
       "    <tr>\n",
       "      <th>58</th>\n",
       "      <td>0.065</td>\n",
       "      <td>0.58</td>\n",
       "      <td>0.645</td>\n",
       "      <td>22229.064</td>\n",
       "      <td>38252.147</td>\n",
       "      <td>2.164517e+08</td>\n",
       "      <td>6.045113e+06</td>\n",
       "      <td>1.406936e+08</td>\n",
       "      <td>2.278237e+08</td>\n",
       "      <td>3485209.1</td>\n",
       "      <td>14478936.0</td>\n",
       "      <td>0.722519</td>\n",
       "      <td>0.663994</td>\n",
       "      <td>17964145.1</td>\n",
       "      <td>0.127683</td>\n",
       "      <td>2.971681</td>\n",
       "    </tr>\n",
       "    <tr>\n",
       "      <th>59</th>\n",
       "      <td>0.065</td>\n",
       "      <td>0.59</td>\n",
       "      <td>0.655</td>\n",
       "      <td>22272.274</td>\n",
       "      <td>38368.239</td>\n",
       "      <td>2.165633e+08</td>\n",
       "      <td>6.044960e+06</td>\n",
       "      <td>1.407661e+08</td>\n",
       "      <td>2.277530e+08</td>\n",
       "      <td>3491983.9</td>\n",
       "      <td>14522879.0</td>\n",
       "      <td>0.721489</td>\n",
       "      <td>0.662316</td>\n",
       "      <td>18014862.9</td>\n",
       "      <td>0.127977</td>\n",
       "      <td>2.980146</td>\n",
       "    </tr>\n",
       "    <tr>\n",
       "      <th>60</th>\n",
       "      <td>0.065</td>\n",
       "      <td>0.60</td>\n",
       "      <td>0.665</td>\n",
       "      <td>22272.274</td>\n",
       "      <td>38368.239</td>\n",
       "      <td>2.165633e+08</td>\n",
       "      <td>6.044960e+06</td>\n",
       "      <td>1.407661e+08</td>\n",
       "      <td>2.277530e+08</td>\n",
       "      <td>3491983.9</td>\n",
       "      <td>14522879.0</td>\n",
       "      <td>0.721489</td>\n",
       "      <td>0.662316</td>\n",
       "      <td>18014862.9</td>\n",
       "      <td>0.127977</td>\n",
       "      <td>2.980146</td>\n",
       "    </tr>\n",
       "  </tbody>\n",
       "</table>\n",
       "<p>61 rows × 16 columns</p>\n",
       "</div>"
      ],
      "text/plain": [
       "    hydrogen_cost_(£)  hydrogen_subsidy_(£)  hydrogen_cost+subsidy_(£)  \\\n",
       "0               0.065                  0.00                      0.065   \n",
       "1               0.065                  0.01                      0.075   \n",
       "2               0.065                  0.02                      0.085   \n",
       "3               0.065                  0.03                      0.095   \n",
       "4               0.065                  0.04                      0.105   \n",
       "..                ...                   ...                        ...   \n",
       "56              0.065                  0.56                      0.625   \n",
       "57              0.065                  0.57                      0.635   \n",
       "58              0.065                  0.58                      0.645   \n",
       "59              0.065                  0.59                      0.655   \n",
       "60              0.065                  0.60                      0.665   \n",
       "\n",
       "    electrolysis_capacity(hydrogen)_(kW)  osw_capacity_(kW)  \\\n",
       "0                                  0.000          35988.165   \n",
       "1                                  0.000          35988.165   \n",
       "2                                  0.000          35988.165   \n",
       "3                                  0.000          35988.165   \n",
       "4                                  0.000          35988.165   \n",
       "..                                   ...                ...   \n",
       "56                             22208.914          38198.011   \n",
       "57                             22208.914          38198.011   \n",
       "58                             22229.064          38252.147   \n",
       "59                             22272.274          38368.239   \n",
       "60                             22272.274          38368.239   \n",
       "\n",
       "    osw_elec_consumed_by_electrolyser_(kWh)  osw_elec_exported_to_grid_(kWh)  \\\n",
       "0                             -0.000000e+00                     2.191878e+08   \n",
       "1                             -0.000000e+00                     2.191878e+08   \n",
       "2                             -0.000000e+00                     2.191878e+08   \n",
       "3                             -0.000000e+00                     2.191878e+08   \n",
       "4                             -0.000000e+00                     2.191878e+08   \n",
       "..                                      ...                              ...   \n",
       "56                             2.163985e+08                     6.045029e+06   \n",
       "57                             2.163985e+08                     6.045029e+06   \n",
       "58                             2.164517e+08                     6.045113e+06   \n",
       "59                             2.165633e+08                     6.044960e+06   \n",
       "60                             2.165633e+08                     6.044960e+06   \n",
       "\n",
       "    green_hydrogen_prod_(kWh)  alt_hydrogen_prod_(kWh)  electrolysis_cost_(£)  \\\n",
       "0                0.000000e+00             3.650000e+08                    0.0   \n",
       "1                0.000000e+00             3.650000e+08                    0.0   \n",
       "2                0.000000e+00             3.650000e+08                    0.0   \n",
       "3                0.000000e+00             3.650000e+08                    0.0   \n",
       "4                0.000000e+00             3.650000e+08                    0.0   \n",
       "..                        ...                      ...                    ...   \n",
       "56               1.406590e+08             2.278574e+08              3482049.9   \n",
       "57               1.406590e+08             2.278574e+08              3482049.9   \n",
       "58               1.406936e+08             2.278237e+08              3485209.1   \n",
       "59               1.407661e+08             2.277530e+08              3491983.9   \n",
       "60               1.407661e+08             2.277530e+08              3491983.9   \n",
       "\n",
       "    osw_cost_(£)  electrolysis_capfactor  osw_capfactor  \\\n",
       "0     13621990.0                     NaN       0.695269   \n",
       "1     13621990.0                     NaN       0.695269   \n",
       "2     13621990.0                     NaN       0.695269   \n",
       "3     13621990.0                     NaN       0.695269   \n",
       "4     13621990.0                     NaN       0.695269   \n",
       "..           ...                     ...            ...   \n",
       "56    14458445.0                0.722997       0.664775   \n",
       "57    14458445.0                0.722997       0.664775   \n",
       "58    14478936.0                0.722519       0.663994   \n",
       "59    14522879.0                0.721489       0.662316   \n",
       "60    14522879.0                0.721489       0.662316   \n",
       "\n",
       "    total_system_cost_(£)  LCOE(hydrogen)_(£/kWh)  LCOE(elec)_(£/kWh)  \n",
       "0              13621990.0                     inf            0.062148  \n",
       "1              13621990.0                     inf            0.062148  \n",
       "2              13621990.0                     inf            0.062148  \n",
       "3              13621990.0                     inf            0.062148  \n",
       "4              13621990.0                     inf            0.062148  \n",
       "..                    ...                     ...                 ...  \n",
       "56             17940494.9                0.127546            2.967810  \n",
       "57             17940494.9                0.127546            2.967810  \n",
       "58             17964145.1                0.127683            2.971681  \n",
       "59             18014862.9                0.127977            2.980146  \n",
       "60             18014862.9                0.127977            2.980146  \n",
       "\n",
       "[61 rows x 16 columns]"
      ]
     },
     "execution_count": 8,
     "metadata": {},
     "output_type": "execute_result"
    }
   ],
   "source": [
    "cs4_data"
   ]
  },
  {
   "cell_type": "code",
   "execution_count": 9,
   "id": "alternate-collection",
   "metadata": {
    "scrolled": false
   },
   "outputs": [
    {
     "data": {
      "text/plain": [
       "<AxesSubplot:xlabel='hydrogen_cost+subsidy_(£)'>"
      ]
     },
     "execution_count": 9,
     "metadata": {},
     "output_type": "execute_result"
    },
    {
     "data": {
      "image/png": "[encoded data removed]",
      "text/plain": [
       "<Figure size 432x288 with 1 Axes>"
      ]
     },
     "metadata": {
      "needs_background": "light"
     },
     "output_type": "display_data"
    }
   ],
   "source": [
    "cs4_data.plot(x=\"hydrogen_cost+subsidy_(£)\", y='electrolysis_capacity(hydrogen)_(kW)')"
   ]
  },
  {
   "cell_type": "code",
   "execution_count": 10,
   "id": "upset-blind",
   "metadata": {
    "scrolled": false
   },
   "outputs": [
    {
     "data": {
      "text/plain": [
       "<AxesSubplot:xlabel='electrolysis_capacity(hydrogen)_(kW)'>"
      ]
     },
     "execution_count": 10,
     "metadata": {},
     "output_type": "execute_result"
    },
    {
     "data": {
      "image/png": "[encoded data removed]",
      "text/plain": [
       "<Figure size 432x288 with 1 Axes>"
      ]
     },
     "metadata": {
      "needs_background": "light"
     },
     "output_type": "display_data"
    }
   ],
   "source": [
    "cs4_data.plot(x=\"electrolysis_capacity(hydrogen)_(kW)\", y='LCOE(hydrogen)_(£/kWh)')"
   ]
  },
  {
   "cell_type": "code",
   "execution_count": 11,
   "id": "unsigned-sound",
   "metadata": {
    "scrolled": false
   },
   "outputs": [
    {
     "data": {
      "text/plain": [
       "<AxesSubplot:xlabel='electrolysis_capacity(hydrogen)_(kW)'>"
      ]
     },
     "execution_count": 11,
     "metadata": {},
     "output_type": "execute_result"
    },
    {
     "data": {
      "image/png": "[encoded data removed]",
      "text/plain": [
       "<Figure size 432x288 with 1 Axes>"
      ]
     },
     "metadata": {
      "needs_background": "light"
     },
     "output_type": "display_data"
    }
   ],
   "source": [
    "cs4_data.plot(x=\"electrolysis_capacity(hydrogen)_(kW)\", y='electrolysis_capfactor')"
   ]
  },
  {
   "cell_type": "code",
   "execution_count": 12,
   "id": "stylish-single",
   "metadata": {},
   "outputs": [
    {
     "data": {
      "text/plain": [
       "<AxesSubplot:xlabel='hydrogen_cost+subsidy_(£)'>"
      ]
     },
     "execution_count": 12,
     "metadata": {},
     "output_type": "execute_result"
    },
    {
     "data": {
      "image/png": "[encoded data removed]",
      "text/plain": [
       "<Figure size 432x288 with 1 Axes>"
      ]
     },
     "metadata": {
      "needs_background": "light"
     },
     "output_type": "display_data"
    }
   ],
   "source": [
    "cs4_data.plot(x=\"hydrogen_cost+subsidy_(£)\", y=['osw_elec_exported_to_grid_(kWh)','osw_elec_consumed_by_electrolyser_(kWh)'])"
   ]
  }
 ],
 "metadata": {
  "kernelspec": {
   "display_name": "Python 3",
   "language": "python",
   "name": "python3"
  },
  "language_info": {
   "codemirror_mode": {
    "name": "ipython",
    "version": 3
   },
   "file_extension": ".py",
   "mimetype": "text/x-python",
   "name": "python",
   "nbconvert_exporter": "python",
   "pygments_lexer": "ipython3",
   "version": "3.8.8"
  }
 },
 "nbformat": 4,
 "nbformat_minor": 5
}
