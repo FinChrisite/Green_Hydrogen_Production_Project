{
 "cells": [
  {
   "cell_type": "code",
   "execution_count": 2,
   "id": "documentary-outreach",
   "metadata": {
    "scrolled": true
   },
   "outputs": [],
   "source": [
    "import calliope\n",
    "import numpy as np\n",
    "import pandas as pd\n",
    "import matplotlib.pyplot as plt"
   ]
  },
  {
   "cell_type": "code",
   "execution_count": null,
   "id": "inclusive-participation",
   "metadata": {},
   "outputs": [],
   "source": [
    "hydrogen_cost = np.arrange(0,0.25,0.01) #range of hydrogen costs, to test the cost competitiveness of Green hydrogen production method"
   ]
  },
  {
   "cell_type": "code",
   "execution_count": null,
   "id": "silver-melissa",
   "metadata": {},
   "outputs": [],
   "source": [
    "def cost_iteration(scenario,)"
   ]
  }
 ],
 "metadata": {
  "kernelspec": {
   "display_name": "Python 3",
   "language": "python",
   "name": "python3"
  },
  "language_info": {
   "codemirror_mode": {
    "name": "ipython",
    "version": 3
   },
   "file_extension": ".py",
   "mimetype": "text/x-python",
   "name": "python",
   "nbconvert_exporter": "python",
   "pygments_lexer": "ipython3",
   "version": "3.8.8"
  }
 },
 "nbformat": 4,
 "nbformat_minor": 5
}
