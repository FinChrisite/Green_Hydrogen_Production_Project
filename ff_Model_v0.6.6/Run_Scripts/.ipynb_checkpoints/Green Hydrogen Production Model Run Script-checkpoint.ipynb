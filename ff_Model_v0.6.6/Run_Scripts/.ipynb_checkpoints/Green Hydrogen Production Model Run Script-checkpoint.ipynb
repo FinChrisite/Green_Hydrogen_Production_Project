{
 "cells": [
  {
   "cell_type": "code",
   "execution_count": 33,
   "id": "documentary-outreach",
   "metadata": {
    "scrolled": true
   },
   "outputs": [],
   "source": [
    "import calliope\n",
    "import numpy as np\n",
    "import pandas as pd\n",
    "import matplotlib.pyplot as plt\n",
    "import winsound as ws"
   ]
  },
  {
   "cell_type": "code",
   "execution_count": 34,
   "id": "inclusive-participation",
   "metadata": {},
   "outputs": [],
   "source": [
    "hydrogen_costs = np.arange(0,1,0.01) #range of hydrogen costs, to test the cost competitiveness of Green hydrogen production method\n",
    "\n",
    "time_period = \"default\"\n",
    "\n",
    "scenarios = {\"default\":{\"cs1\":\"default/concept_scenario_1\",\"cs2\":\"default/concept_scenario_2\",\"cs3\":\"default/concept_scenario_3\",\"cs4\":\"default/concept_scenario_4\"},\n",
    "             \"high_wind_month\":{\"cs1\":\"high_wind_month/concept_scenario_1\",\"cs2\":\"high_wind_month/concept_scenario_2\",\"cs3\":\"high_wind_month/concept_scenario_3\",\"cs4\":\"high_wind_month/concept_scenario_4\"},\n",
    "             \"low_wind_month\":{\"cs1\":\"low_wind_month/concept_scenario_1\",\"cs2\":\"low_wind_month/concept_scenario_2\",\"cs3\":\"low_wind_month/concept_scenario_3\",\"cs4\":\"low_wind_month/concept_scenario_4\"},\n",
    "             \"high_wind_day\":{\"cs1\":\"high_wind_day/concept_scenario_1\",\"cs2\":\"high_wind_day/concept_scenario_2\",\"cs3\":\"high_wind_day/concept_scenario_3\",\"cs4\":\"high_wind_day/concept_scenario_4\"},\n",
    "             \"low_wind_day\":{\"cs1\":\"low_wind_day/concept_scenario_1\",\"cs2\":\"low_wind_day/concept_scenario_2\",\"cs3\":\"low_wind_day/concept_scenario_3\",\"cs4\":\"low_wind_day/concept_scenario_4\"},\n",
    "             \"full_year\":{\"cs1\":\"full_year/concept_scenario_1\",\"cs2\":\"full_year/concept_scenario_2\",\"cs3\":\"full_year/concept_scenario_3\",\"cs4\":\"full_year/concept_scenario_4\"},\n",
    "            }\n",
    "                       "
   ]
  },
  {
   "cell_type": "code",
   "execution_count": 35,
   "id": "promotional-province",
   "metadata": {},
   "outputs": [],
   "source": [
    "def cost_iteration(scenario,cost_range):\n",
    "\n",
    "    results =[]\n",
    "    models ={}\n",
    "    \n",
    "    for cost in cost_range:\n",
    "        \n",
    "        model = calliope.Model('../model.yaml',\n",
    "                               scenario=scenario,\n",
    "                               override_dict = {'techs.smr.costs.monetary.om_prod': cost})\n",
    "\n",
    "        model.run(force_rerun=True)\n",
    "        \n",
    "        models[str(cost)]= model\n",
    "                       \n",
    "        \n",
    "        if \"concept_scenario_2\" in model.results.scenario:\n",
    "            \n",
    "            results.append({'hydrogen_cost' : cost,\n",
    "                            'Green_Hydrogen_prod' : model.results.carrier_prod.sel(loc_tech_carriers_prod='region1-1::electrolysis::hydrogen').values.sum(),\n",
    "                            'Grey_Hydrogen_prod' : model.results.carrier_prod.sel(loc_tech_carriers_prod='region2::smr::hydrogen').values.sum()\n",
    "                           }) # store results in list\n",
    "        else:\n",
    "            \n",
    "            results.append({'hydrogen_cost' : cost,\n",
    "                            'Green_Hydrogen_prod' : model.results.carrier_prod.sel(loc_tech_carriers_prod='region1-2::electrolysis::hydrogen').values.sum(),\n",
    "                            'Grey_Hydrogen_prod' : model.results.carrier_prod.sel(loc_tech_carriers_prod='region2::smr::hydrogen').values.sum()\n",
    "                            }) # store results in list\n",
    "    \n",
    "    results_df = pd.DataFrame(results)\n",
    "    \n",
    "    return results_df, models"
   ]
  },
  {
   "cell_type": "code",
   "execution_count": null,
   "id": "danish-trader",
   "metadata": {
    "scrolled": false
   },
   "outputs": [],
   "source": [
    "[cs1_data, cs1_model] = cost_iteration(scenarios[time_period][\"cs1\"],hydrogen_costs)\n",
    "ws.Beep(3000,10) #to let user know it's finished running"
   ]
  },
  {
   "cell_type": "code",
   "execution_count": null,
   "id": "educational-produce",
   "metadata": {},
   "outputs": [],
   "source": [
    "[cs2_data, cs2_model] = cost_iteration(scenarios[time_period][\"cs2\"],hydrogen_costs)\n",
    "ws.Beep(3000,10) #to let user know it's finished running"
   ]
  },
  {
   "cell_type": "code",
   "execution_count": null,
   "id": "deadly-navigation",
   "metadata": {
    "scrolled": true
   },
   "outputs": [],
   "source": [
    "[cs3_data, cs3_model] = cost_iteration(scenarios[time_period][\"cs3\"],hydrogen_costs)\n",
    "ws.Beep(3000,10) #to let user know it's finished running"
   ]
  },
  {
   "cell_type": "code",
   "execution_count": null,
   "id": "chinese-society",
   "metadata": {},
   "outputs": [],
   "source": [
    "[cs4_data, cs4_model] = cost_iteration(scenarios[time_period][\"cs4\"],hydrogen_costs)\n",
    "ws.Beep(3000,10) #to let user know it's finished running"
   ]
  },
  {
   "cell_type": "code",
   "execution_count": null,
   "id": "deluxe-review",
   "metadata": {
    "scrolled": true
   },
   "outputs": [],
   "source": [
    "cs1_data.plot(x=\"hydrogen_cost\")\n",
    "cs2_data.plot(x=\"hydrogen_cost\")\n",
    "cs3_data.plot(x=\"hydrogen_cost\")\n",
    "cs4_data.plot(x=\"hydrogen_cost\")"
   ]
  },
  {
   "cell_type": "code",
   "execution_count": null,
   "id": "ordered-thursday",
   "metadata": {},
   "outputs": [],
   "source": [
    "print(cs1_data)"
   ]
  },
  {
   "cell_type": "code",
   "execution_count": null,
   "id": "aggregate-blend",
   "metadata": {
    "scrolled": true
   },
   "outputs": [],
   "source": [
    "cs1_model[\"0.1\"].plot.timeseries(array=['hydrogen', 'resource_prod'])"
   ]
  },
  {
   "cell_type": "code",
   "execution_count": null,
   "id": "resident-poultry",
   "metadata": {},
   "outputs": [],
   "source": []
  }
 ],
 "metadata": {
  "kernelspec": {
   "display_name": "Python 3",
   "language": "python",
   "name": "python3"
  },
  "language_info": {
   "codemirror_mode": {
    "name": "ipython",
    "version": 3
   },
   "file_extension": ".py",
   "mimetype": "text/x-python",
   "name": "python",
   "nbconvert_exporter": "python",
   "pygments_lexer": "ipython3",
   "version": "3.8.8"
  }
 },
 "nbformat": 4,
 "nbformat_minor": 5
}
